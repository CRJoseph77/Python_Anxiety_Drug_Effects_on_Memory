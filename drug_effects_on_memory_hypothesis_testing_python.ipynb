{
 "cells": [
  {
   "cell_type": "markdown",
   "id": "1cee209f",
   "metadata": {},
   "source": [
    "# Project Overview and Goal"
   ]
  },
  {
   "cell_type": "markdown",
   "id": "0a04614c",
   "metadata": {},
   "source": [
    "*This project aims to evaluate the effect of drugs used to treat anti-anxiety on memory. The dataset used for this project contains data collected from virtual, non-human participants in a virtual environment designed to mimic real humans. Exploratory data analysis was conducted, including cleaning and structuring. Once the data was properly cleaned and structured, it was used in multiple hypothesis tests to evaluate the effects of drug type, dosage, and emotional priming condition on memory.*\n",
    "\n",
    "**Independent variables (randomly assigned):**\n",
    "1. Drug condition: A (Xanax), control (Sugar), or T (Halcion).\n",
    "2. Dosage condition: Low, Moderate, or High.\n",
    "3. Emotional priming condition: H (Happy) or S (Sad). There is evidence that priming individuals with happy or sad memories can affect their performance on memory-related measures.\n",
    "\n",
    "**Dependent variable:**\n",
    "1. Difference in memory response time between pre-intervention memory test scores and post-intervention memory test scores. This metric compares memory response time on a memory test before exposure to the treatment conditions and afterward. Higher differences indicate an increase in memory response time after exposure relative to before, reflecting a negative impact on memory. Lower (or negative) differences indicate a decrease in memory response time after exposure relative to before, reflecting an improvement in memory performance. \n",
    "\n",
    "**Tests conducted:**\n",
    "1. A two-sample t-test (comparable to an A/B test) assessing the difference between the two emotional priming groups (happy vs. sad).\n",
    "2. A one-way ANOVA assessing the difference between the three drug conditions (Xanax, control, Halcion).\n",
    "3. A two-way ANOVA assessing the main effects and interaction effect of drug condition and emotional priming condition.\n",
    "4. A two-way ANOVA assessing the main effects and interaction effect of drug condition and dosage."
   ]
  },
  {
   "cell_type": "markdown",
   "id": "17f55288",
   "metadata": {},
   "source": [
    "# Importing Packages and Data"
   ]
  },
  {
   "cell_type": "code",
   "execution_count": 1,
   "id": "c4a66df1",
   "metadata": {},
   "outputs": [],
   "source": [
    "import numpy as np\n",
    "import pandas as pd\n",
    "import matplotlib.pyplot as plt\n",
    "import seaborn as sns\n",
    "\n",
    "from scipy import stats\n",
    "import statsmodels.api as sm\n",
    "from statsmodels.formula.api import ols\n",
    "from statsmodels.stats.multicomp import pairwise_tukeyhsd"
   ]
  },
  {
   "cell_type": "code",
   "execution_count": 2,
   "id": "c1421dd7",
   "metadata": {},
   "outputs": [],
   "source": [
    "# Importing data\n",
    "df_memory = pd.read_csv('Islander_data.csv')"
   ]
  },
  {
   "cell_type": "markdown",
   "id": "f38bf625",
   "metadata": {},
   "source": [
    "# Exploratory Data Analysis"
   ]
  },
  {
   "cell_type": "markdown",
   "id": "a51092e3",
   "metadata": {},
   "source": [
    "## Initial structuring and cleaning"
   ]
  },
  {
   "cell_type": "code",
   "execution_count": 3,
   "id": "0f06a4d2",
   "metadata": {},
   "outputs": [
    {
     "data": {
      "text/html": [
       "<div>\n",
       "<style scoped>\n",
       "    .dataframe tbody tr th:only-of-type {\n",
       "        vertical-align: middle;\n",
       "    }\n",
       "\n",
       "    .dataframe tbody tr th {\n",
       "        vertical-align: top;\n",
       "    }\n",
       "\n",
       "    .dataframe thead th {\n",
       "        text-align: right;\n",
       "    }\n",
       "</style>\n",
       "<table border=\"1\" class=\"dataframe\">\n",
       "  <thead>\n",
       "    <tr style=\"text-align: right;\">\n",
       "      <th></th>\n",
       "      <th>first_name</th>\n",
       "      <th>last_name</th>\n",
       "      <th>age</th>\n",
       "      <th>Happy_Sad_group</th>\n",
       "      <th>Dosage</th>\n",
       "      <th>Drug</th>\n",
       "      <th>Mem_Score_Before</th>\n",
       "      <th>Mem_Score_After</th>\n",
       "      <th>Diff</th>\n",
       "    </tr>\n",
       "  </thead>\n",
       "  <tbody>\n",
       "    <tr>\n",
       "      <th>0</th>\n",
       "      <td>Bastian</td>\n",
       "      <td>Carrasco</td>\n",
       "      <td>25</td>\n",
       "      <td>H</td>\n",
       "      <td>1</td>\n",
       "      <td>A</td>\n",
       "      <td>63.5</td>\n",
       "      <td>61.2</td>\n",
       "      <td>-2.3</td>\n",
       "    </tr>\n",
       "    <tr>\n",
       "      <th>1</th>\n",
       "      <td>Evan</td>\n",
       "      <td>Carrasco</td>\n",
       "      <td>52</td>\n",
       "      <td>S</td>\n",
       "      <td>1</td>\n",
       "      <td>A</td>\n",
       "      <td>41.6</td>\n",
       "      <td>40.7</td>\n",
       "      <td>-0.9</td>\n",
       "    </tr>\n",
       "    <tr>\n",
       "      <th>2</th>\n",
       "      <td>Florencia</td>\n",
       "      <td>Carrasco</td>\n",
       "      <td>29</td>\n",
       "      <td>H</td>\n",
       "      <td>1</td>\n",
       "      <td>A</td>\n",
       "      <td>59.7</td>\n",
       "      <td>55.1</td>\n",
       "      <td>-4.6</td>\n",
       "    </tr>\n",
       "    <tr>\n",
       "      <th>3</th>\n",
       "      <td>Holly</td>\n",
       "      <td>Carrasco</td>\n",
       "      <td>50</td>\n",
       "      <td>S</td>\n",
       "      <td>1</td>\n",
       "      <td>A</td>\n",
       "      <td>51.7</td>\n",
       "      <td>51.2</td>\n",
       "      <td>-0.5</td>\n",
       "    </tr>\n",
       "    <tr>\n",
       "      <th>4</th>\n",
       "      <td>Justin</td>\n",
       "      <td>Carrasco</td>\n",
       "      <td>52</td>\n",
       "      <td>H</td>\n",
       "      <td>1</td>\n",
       "      <td>A</td>\n",
       "      <td>47.0</td>\n",
       "      <td>47.1</td>\n",
       "      <td>0.1</td>\n",
       "    </tr>\n",
       "  </tbody>\n",
       "</table>\n",
       "</div>"
      ],
      "text/plain": [
       "  first_name last_name  age Happy_Sad_group  Dosage Drug  Mem_Score_Before  \\\n",
       "0    Bastian  Carrasco   25               H       1    A              63.5   \n",
       "1       Evan  Carrasco   52               S       1    A              41.6   \n",
       "2  Florencia  Carrasco   29               H       1    A              59.7   \n",
       "3      Holly  Carrasco   50               S       1    A              51.7   \n",
       "4     Justin  Carrasco   52               H       1    A              47.0   \n",
       "\n",
       "   Mem_Score_After  Diff  \n",
       "0             61.2  -2.3  \n",
       "1             40.7  -0.9  \n",
       "2             55.1  -4.6  \n",
       "3             51.2  -0.5  \n",
       "4             47.1   0.1  "
      ]
     },
     "execution_count": 3,
     "metadata": {},
     "output_type": "execute_result"
    }
   ],
   "source": [
    "# Initial examination of the dataset\n",
    "df_memory.head()"
   ]
  },
  {
   "cell_type": "markdown",
   "id": "ad18ae80",
   "metadata": {},
   "source": [
    "*It appears as though the data contains participant names. Since these are not real individuals, I included these steps in the analysis. Normally, this information could be used to personally identify individuals, so it should be removed during preprocessing. It also appears as though some participants have the same last name, suggesting that duplicates may be present.*"
   ]
  },
  {
   "cell_type": "code",
   "execution_count": 4,
   "id": "817bfc6d",
   "metadata": {
    "scrolled": true
   },
   "outputs": [
    {
     "data": {
      "text/plain": [
       "0"
      ]
     },
     "execution_count": 4,
     "metadata": {},
     "output_type": "execute_result"
    }
   ],
   "source": [
    "# Checking for duplicate rows\n",
    "df_memory.duplicated().sum()"
   ]
  },
  {
   "cell_type": "markdown",
   "id": "9aa11f6c",
   "metadata": {},
   "source": [
    "*There are no duplicate rows in the data.*"
   ]
  },
  {
   "cell_type": "code",
   "execution_count": 5,
   "id": "9ac8c926",
   "metadata": {
    "scrolled": false
   },
   "outputs": [
    {
     "data": {
      "text/html": [
       "<div>\n",
       "<style scoped>\n",
       "    .dataframe tbody tr th:only-of-type {\n",
       "        vertical-align: middle;\n",
       "    }\n",
       "\n",
       "    .dataframe tbody tr th {\n",
       "        vertical-align: top;\n",
       "    }\n",
       "\n",
       "    .dataframe thead th {\n",
       "        text-align: right;\n",
       "    }\n",
       "</style>\n",
       "<table border=\"1\" class=\"dataframe\">\n",
       "  <thead>\n",
       "    <tr style=\"text-align: right;\">\n",
       "      <th></th>\n",
       "      <th>first_name</th>\n",
       "      <th>last_name</th>\n",
       "      <th>age</th>\n",
       "      <th>Happy_Sad_group</th>\n",
       "      <th>Dosage</th>\n",
       "      <th>Drug</th>\n",
       "      <th>Mem_Score_Before</th>\n",
       "      <th>Mem_Score_After</th>\n",
       "      <th>Diff</th>\n",
       "    </tr>\n",
       "  </thead>\n",
       "  <tbody>\n",
       "    <tr>\n",
       "      <th>6</th>\n",
       "      <td>Ava</td>\n",
       "      <td>Durand</td>\n",
       "      <td>35</td>\n",
       "      <td>S</td>\n",
       "      <td>1</td>\n",
       "      <td>A</td>\n",
       "      <td>44.1</td>\n",
       "      <td>56.0</td>\n",
       "      <td>11.9</td>\n",
       "    </tr>\n",
       "    <tr>\n",
       "      <th>117</th>\n",
       "      <td>Ava</td>\n",
       "      <td>Durand</td>\n",
       "      <td>25</td>\n",
       "      <td>S</td>\n",
       "      <td>3</td>\n",
       "      <td>S</td>\n",
       "      <td>44.1</td>\n",
       "      <td>41.5</td>\n",
       "      <td>-2.6</td>\n",
       "    </tr>\n",
       "    <tr>\n",
       "      <th>12</th>\n",
       "      <td>Ayano</td>\n",
       "      <td>Kennedy</td>\n",
       "      <td>39</td>\n",
       "      <td>H</td>\n",
       "      <td>1</td>\n",
       "      <td>A</td>\n",
       "      <td>35.5</td>\n",
       "      <td>40.7</td>\n",
       "      <td>5.2</td>\n",
       "    </tr>\n",
       "    <tr>\n",
       "      <th>35</th>\n",
       "      <td>Ayano</td>\n",
       "      <td>Kennedy</td>\n",
       "      <td>38</td>\n",
       "      <td>H</td>\n",
       "      <td>2</td>\n",
       "      <td>A</td>\n",
       "      <td>40.2</td>\n",
       "      <td>44.5</td>\n",
       "      <td>4.3</td>\n",
       "    </tr>\n",
       "    <tr>\n",
       "      <th>0</th>\n",
       "      <td>Bastian</td>\n",
       "      <td>Carrasco</td>\n",
       "      <td>25</td>\n",
       "      <td>H</td>\n",
       "      <td>1</td>\n",
       "      <td>A</td>\n",
       "      <td>63.5</td>\n",
       "      <td>61.2</td>\n",
       "      <td>-2.3</td>\n",
       "    </tr>\n",
       "    <tr>\n",
       "      <th>134</th>\n",
       "      <td>Bastian</td>\n",
       "      <td>Carrasco</td>\n",
       "      <td>27</td>\n",
       "      <td>H</td>\n",
       "      <td>1</td>\n",
       "      <td>T</td>\n",
       "      <td>51.4</td>\n",
       "      <td>51.4</td>\n",
       "      <td>0.0</td>\n",
       "    </tr>\n",
       "    <tr>\n",
       "      <th>161</th>\n",
       "      <td>Ciara</td>\n",
       "      <td>Durand</td>\n",
       "      <td>54</td>\n",
       "      <td>H</td>\n",
       "      <td>2</td>\n",
       "      <td>T</td>\n",
       "      <td>55.2</td>\n",
       "      <td>51.7</td>\n",
       "      <td>-3.5</td>\n",
       "    </tr>\n",
       "    <tr>\n",
       "      <th>118</th>\n",
       "      <td>Ciara</td>\n",
       "      <td>Durand</td>\n",
       "      <td>29</td>\n",
       "      <td>S</td>\n",
       "      <td>3</td>\n",
       "      <td>S</td>\n",
       "      <td>40.5</td>\n",
       "      <td>33.4</td>\n",
       "      <td>-7.1</td>\n",
       "    </tr>\n",
       "    <tr>\n",
       "      <th>193</th>\n",
       "      <td>Jacob</td>\n",
       "      <td>Novak</td>\n",
       "      <td>52</td>\n",
       "      <td>H</td>\n",
       "      <td>3</td>\n",
       "      <td>T</td>\n",
       "      <td>71.3</td>\n",
       "      <td>74.3</td>\n",
       "      <td>3.0</td>\n",
       "    </tr>\n",
       "    <tr>\n",
       "      <th>171</th>\n",
       "      <td>Jacob</td>\n",
       "      <td>Novak</td>\n",
       "      <td>37</td>\n",
       "      <td>H</td>\n",
       "      <td>2</td>\n",
       "      <td>T</td>\n",
       "      <td>44.5</td>\n",
       "      <td>47.7</td>\n",
       "      <td>3.2</td>\n",
       "    </tr>\n",
       "    <tr>\n",
       "      <th>73</th>\n",
       "      <td>Josefa</td>\n",
       "      <td>Durand</td>\n",
       "      <td>41</td>\n",
       "      <td>H</td>\n",
       "      <td>1</td>\n",
       "      <td>S</td>\n",
       "      <td>56.2</td>\n",
       "      <td>59.0</td>\n",
       "      <td>2.8</td>\n",
       "    </tr>\n",
       "    <tr>\n",
       "      <th>8</th>\n",
       "      <td>Josefa</td>\n",
       "      <td>Durand</td>\n",
       "      <td>29</td>\n",
       "      <td>H</td>\n",
       "      <td>1</td>\n",
       "      <td>A</td>\n",
       "      <td>56.2</td>\n",
       "      <td>45.0</td>\n",
       "      <td>-11.2</td>\n",
       "    </tr>\n",
       "    <tr>\n",
       "      <th>114</th>\n",
       "      <td>Jun</td>\n",
       "      <td>Carrasco</td>\n",
       "      <td>34</td>\n",
       "      <td>S</td>\n",
       "      <td>3</td>\n",
       "      <td>S</td>\n",
       "      <td>83.4</td>\n",
       "      <td>67.4</td>\n",
       "      <td>-16.0</td>\n",
       "    </tr>\n",
       "    <tr>\n",
       "      <th>136</th>\n",
       "      <td>Jun</td>\n",
       "      <td>Carrasco</td>\n",
       "      <td>30</td>\n",
       "      <td>S</td>\n",
       "      <td>1</td>\n",
       "      <td>T</td>\n",
       "      <td>50.0</td>\n",
       "      <td>42.2</td>\n",
       "      <td>-7.8</td>\n",
       "    </tr>\n",
       "    <tr>\n",
       "      <th>16</th>\n",
       "      <td>Kaito</td>\n",
       "      <td>McCarthy</td>\n",
       "      <td>51</td>\n",
       "      <td>S</td>\n",
       "      <td>1</td>\n",
       "      <td>A</td>\n",
       "      <td>48.3</td>\n",
       "      <td>44.6</td>\n",
       "      <td>-3.7</td>\n",
       "    </tr>\n",
       "    <tr>\n",
       "      <th>15</th>\n",
       "      <td>Kaito</td>\n",
       "      <td>McCarthy</td>\n",
       "      <td>48</td>\n",
       "      <td>H</td>\n",
       "      <td>1</td>\n",
       "      <td>A</td>\n",
       "      <td>53.5</td>\n",
       "      <td>56.3</td>\n",
       "      <td>2.8</td>\n",
       "    </tr>\n",
       "    <tr>\n",
       "      <th>179</th>\n",
       "      <td>Liam</td>\n",
       "      <td>Carrasco</td>\n",
       "      <td>28</td>\n",
       "      <td>S</td>\n",
       "      <td>3</td>\n",
       "      <td>T</td>\n",
       "      <td>49.7</td>\n",
       "      <td>41.3</td>\n",
       "      <td>-8.4</td>\n",
       "    </tr>\n",
       "    <tr>\n",
       "      <th>5</th>\n",
       "      <td>Liam</td>\n",
       "      <td>Carrasco</td>\n",
       "      <td>37</td>\n",
       "      <td>S</td>\n",
       "      <td>1</td>\n",
       "      <td>A</td>\n",
       "      <td>66.4</td>\n",
       "      <td>58.1</td>\n",
       "      <td>-8.3</td>\n",
       "    </tr>\n",
       "    <tr>\n",
       "      <th>192</th>\n",
       "      <td>Naoto</td>\n",
       "      <td>Lopez</td>\n",
       "      <td>39</td>\n",
       "      <td>H</td>\n",
       "      <td>3</td>\n",
       "      <td>T</td>\n",
       "      <td>50.8</td>\n",
       "      <td>30.4</td>\n",
       "      <td>-20.4</td>\n",
       "    </tr>\n",
       "    <tr>\n",
       "      <th>168</th>\n",
       "      <td>Naoto</td>\n",
       "      <td>Lopez</td>\n",
       "      <td>35</td>\n",
       "      <td>H</td>\n",
       "      <td>2</td>\n",
       "      <td>T</td>\n",
       "      <td>33.4</td>\n",
       "      <td>57.5</td>\n",
       "      <td>24.1</td>\n",
       "    </tr>\n",
       "    <tr>\n",
       "      <th>185</th>\n",
       "      <td>Nicole</td>\n",
       "      <td>Durand</td>\n",
       "      <td>34</td>\n",
       "      <td>H</td>\n",
       "      <td>3</td>\n",
       "      <td>T</td>\n",
       "      <td>59.6</td>\n",
       "      <td>44.9</td>\n",
       "      <td>-14.7</td>\n",
       "    </tr>\n",
       "    <tr>\n",
       "      <th>164</th>\n",
       "      <td>Nicole</td>\n",
       "      <td>Durand</td>\n",
       "      <td>42</td>\n",
       "      <td>S</td>\n",
       "      <td>2</td>\n",
       "      <td>T</td>\n",
       "      <td>48.2</td>\n",
       "      <td>55.1</td>\n",
       "      <td>6.9</td>\n",
       "    </tr>\n",
       "    <tr>\n",
       "      <th>129</th>\n",
       "      <td>Nik</td>\n",
       "      <td>Summers</td>\n",
       "      <td>38</td>\n",
       "      <td>H</td>\n",
       "      <td>3</td>\n",
       "      <td>S</td>\n",
       "      <td>88.7</td>\n",
       "      <td>96.0</td>\n",
       "      <td>7.3</td>\n",
       "    </tr>\n",
       "    <tr>\n",
       "      <th>20</th>\n",
       "      <td>Nik</td>\n",
       "      <td>Summers</td>\n",
       "      <td>55</td>\n",
       "      <td>S</td>\n",
       "      <td>1</td>\n",
       "      <td>A</td>\n",
       "      <td>52.1</td>\n",
       "      <td>44.2</td>\n",
       "      <td>-7.9</td>\n",
       "    </tr>\n",
       "    <tr>\n",
       "      <th>33</th>\n",
       "      <td>Robert</td>\n",
       "      <td>Durand</td>\n",
       "      <td>35</td>\n",
       "      <td>H</td>\n",
       "      <td>2</td>\n",
       "      <td>A</td>\n",
       "      <td>58.8</td>\n",
       "      <td>50.8</td>\n",
       "      <td>-8.0</td>\n",
       "    </tr>\n",
       "    <tr>\n",
       "      <th>75</th>\n",
       "      <td>Robert</td>\n",
       "      <td>Durand</td>\n",
       "      <td>45</td>\n",
       "      <td>S</td>\n",
       "      <td>1</td>\n",
       "      <td>S</td>\n",
       "      <td>45.8</td>\n",
       "      <td>50.9</td>\n",
       "      <td>5.1</td>\n",
       "    </tr>\n",
       "    <tr>\n",
       "      <th>143</th>\n",
       "      <td>Shauna</td>\n",
       "      <td>Durand</td>\n",
       "      <td>37</td>\n",
       "      <td>S</td>\n",
       "      <td>1</td>\n",
       "      <td>T</td>\n",
       "      <td>47.7</td>\n",
       "      <td>37.9</td>\n",
       "      <td>-9.8</td>\n",
       "    </tr>\n",
       "    <tr>\n",
       "      <th>142</th>\n",
       "      <td>Shauna</td>\n",
       "      <td>Durand</td>\n",
       "      <td>65</td>\n",
       "      <td>H</td>\n",
       "      <td>1</td>\n",
       "      <td>T</td>\n",
       "      <td>50.9</td>\n",
       "      <td>41.8</td>\n",
       "      <td>-9.1</td>\n",
       "    </tr>\n",
       "    <tr>\n",
       "      <th>110</th>\n",
       "      <td>Shun</td>\n",
       "      <td>Takahashi</td>\n",
       "      <td>38</td>\n",
       "      <td>H</td>\n",
       "      <td>2</td>\n",
       "      <td>S</td>\n",
       "      <td>69.2</td>\n",
       "      <td>65.8</td>\n",
       "      <td>-3.4</td>\n",
       "    </tr>\n",
       "    <tr>\n",
       "      <th>153</th>\n",
       "      <td>Shun</td>\n",
       "      <td>Takahashi</td>\n",
       "      <td>46</td>\n",
       "      <td>H</td>\n",
       "      <td>1</td>\n",
       "      <td>T</td>\n",
       "      <td>47.2</td>\n",
       "      <td>49.2</td>\n",
       "      <td>2.0</td>\n",
       "    </tr>\n",
       "    <tr>\n",
       "      <th>138</th>\n",
       "      <td>William</td>\n",
       "      <td>Carrasco</td>\n",
       "      <td>54</td>\n",
       "      <td>S</td>\n",
       "      <td>1</td>\n",
       "      <td>T</td>\n",
       "      <td>62.3</td>\n",
       "      <td>66.8</td>\n",
       "      <td>4.5</td>\n",
       "    </tr>\n",
       "    <tr>\n",
       "      <th>137</th>\n",
       "      <td>William</td>\n",
       "      <td>Carrasco</td>\n",
       "      <td>62</td>\n",
       "      <td>H</td>\n",
       "      <td>1</td>\n",
       "      <td>T</td>\n",
       "      <td>96.0</td>\n",
       "      <td>102.0</td>\n",
       "      <td>6.0</td>\n",
       "    </tr>\n",
       "  </tbody>\n",
       "</table>\n",
       "</div>"
      ],
      "text/plain": [
       "    first_name  last_name  age Happy_Sad_group  Dosage Drug  Mem_Score_Before  \\\n",
       "6          Ava     Durand   35               S       1    A              44.1   \n",
       "117        Ava     Durand   25               S       3    S              44.1   \n",
       "12       Ayano    Kennedy   39               H       1    A              35.5   \n",
       "35       Ayano    Kennedy   38               H       2    A              40.2   \n",
       "0      Bastian   Carrasco   25               H       1    A              63.5   \n",
       "134    Bastian   Carrasco   27               H       1    T              51.4   \n",
       "161      Ciara     Durand   54               H       2    T              55.2   \n",
       "118      Ciara     Durand   29               S       3    S              40.5   \n",
       "193      Jacob      Novak   52               H       3    T              71.3   \n",
       "171      Jacob      Novak   37               H       2    T              44.5   \n",
       "73      Josefa     Durand   41               H       1    S              56.2   \n",
       "8       Josefa     Durand   29               H       1    A              56.2   \n",
       "114        Jun   Carrasco   34               S       3    S              83.4   \n",
       "136        Jun   Carrasco   30               S       1    T              50.0   \n",
       "16       Kaito   McCarthy   51               S       1    A              48.3   \n",
       "15       Kaito   McCarthy   48               H       1    A              53.5   \n",
       "179       Liam   Carrasco   28               S       3    T              49.7   \n",
       "5         Liam   Carrasco   37               S       1    A              66.4   \n",
       "192      Naoto      Lopez   39               H       3    T              50.8   \n",
       "168      Naoto      Lopez   35               H       2    T              33.4   \n",
       "185     Nicole     Durand   34               H       3    T              59.6   \n",
       "164     Nicole     Durand   42               S       2    T              48.2   \n",
       "129        Nik    Summers   38               H       3    S              88.7   \n",
       "20         Nik    Summers   55               S       1    A              52.1   \n",
       "33      Robert     Durand   35               H       2    A              58.8   \n",
       "75      Robert     Durand   45               S       1    S              45.8   \n",
       "143     Shauna     Durand   37               S       1    T              47.7   \n",
       "142     Shauna     Durand   65               H       1    T              50.9   \n",
       "110       Shun  Takahashi   38               H       2    S              69.2   \n",
       "153       Shun  Takahashi   46               H       1    T              47.2   \n",
       "138    William   Carrasco   54               S       1    T              62.3   \n",
       "137    William   Carrasco   62               H       1    T              96.0   \n",
       "\n",
       "     Mem_Score_After  Diff  \n",
       "6               56.0  11.9  \n",
       "117             41.5  -2.6  \n",
       "12              40.7   5.2  \n",
       "35              44.5   4.3  \n",
       "0               61.2  -2.3  \n",
       "134             51.4   0.0  \n",
       "161             51.7  -3.5  \n",
       "118             33.4  -7.1  \n",
       "193             74.3   3.0  \n",
       "171             47.7   3.2  \n",
       "73              59.0   2.8  \n",
       "8               45.0 -11.2  \n",
       "114             67.4 -16.0  \n",
       "136             42.2  -7.8  \n",
       "16              44.6  -3.7  \n",
       "15              56.3   2.8  \n",
       "179             41.3  -8.4  \n",
       "5               58.1  -8.3  \n",
       "192             30.4 -20.4  \n",
       "168             57.5  24.1  \n",
       "185             44.9 -14.7  \n",
       "164             55.1   6.9  \n",
       "129             96.0   7.3  \n",
       "20              44.2  -7.9  \n",
       "33              50.8  -8.0  \n",
       "75              50.9   5.1  \n",
       "143             37.9  -9.8  \n",
       "142             41.8  -9.1  \n",
       "110             65.8  -3.4  \n",
       "153             49.2   2.0  \n",
       "138             66.8   4.5  \n",
       "137            102.0   6.0  "
      ]
     },
     "execution_count": 5,
     "metadata": {},
     "output_type": "execute_result"
    }
   ],
   "source": [
    "# Checking for duplicate participant names\n",
    "df_memory[df_memory.duplicated(['first_name', 'last_name'], keep = False) == True].sort_values(by = 'first_name')"
   ]
  },
  {
   "cell_type": "markdown",
   "id": "c5ada07c",
   "metadata": {},
   "source": [
    "*There are a few participants with the exact same names. That being said, their ages, conditions, and results are different. This suggests that they are independent observations that have the same name (likely due to the way this data was generated).*"
   ]
  },
  {
   "cell_type": "code",
   "execution_count": 6,
   "id": "966b6b3f",
   "metadata": {
    "scrolled": true
   },
   "outputs": [
    {
     "data": {
      "text/html": [
       "<div>\n",
       "<style scoped>\n",
       "    .dataframe tbody tr th:only-of-type {\n",
       "        vertical-align: middle;\n",
       "    }\n",
       "\n",
       "    .dataframe tbody tr th {\n",
       "        vertical-align: top;\n",
       "    }\n",
       "\n",
       "    .dataframe thead th {\n",
       "        text-align: right;\n",
       "    }\n",
       "</style>\n",
       "<table border=\"1\" class=\"dataframe\">\n",
       "  <thead>\n",
       "    <tr style=\"text-align: right;\">\n",
       "      <th></th>\n",
       "      <th>id</th>\n",
       "      <th>age</th>\n",
       "      <th>Happy_Sad_group</th>\n",
       "      <th>Dosage</th>\n",
       "      <th>Drug</th>\n",
       "      <th>Mem_Score_Before</th>\n",
       "      <th>Mem_Score_After</th>\n",
       "      <th>Diff</th>\n",
       "    </tr>\n",
       "  </thead>\n",
       "  <tbody>\n",
       "    <tr>\n",
       "      <th>0</th>\n",
       "      <td>0</td>\n",
       "      <td>25</td>\n",
       "      <td>H</td>\n",
       "      <td>1</td>\n",
       "      <td>A</td>\n",
       "      <td>63.5</td>\n",
       "      <td>61.2</td>\n",
       "      <td>-2.3</td>\n",
       "    </tr>\n",
       "    <tr>\n",
       "      <th>1</th>\n",
       "      <td>1</td>\n",
       "      <td>52</td>\n",
       "      <td>S</td>\n",
       "      <td>1</td>\n",
       "      <td>A</td>\n",
       "      <td>41.6</td>\n",
       "      <td>40.7</td>\n",
       "      <td>-0.9</td>\n",
       "    </tr>\n",
       "    <tr>\n",
       "      <th>2</th>\n",
       "      <td>2</td>\n",
       "      <td>29</td>\n",
       "      <td>H</td>\n",
       "      <td>1</td>\n",
       "      <td>A</td>\n",
       "      <td>59.7</td>\n",
       "      <td>55.1</td>\n",
       "      <td>-4.6</td>\n",
       "    </tr>\n",
       "    <tr>\n",
       "      <th>3</th>\n",
       "      <td>3</td>\n",
       "      <td>50</td>\n",
       "      <td>S</td>\n",
       "      <td>1</td>\n",
       "      <td>A</td>\n",
       "      <td>51.7</td>\n",
       "      <td>51.2</td>\n",
       "      <td>-0.5</td>\n",
       "    </tr>\n",
       "    <tr>\n",
       "      <th>4</th>\n",
       "      <td>4</td>\n",
       "      <td>52</td>\n",
       "      <td>H</td>\n",
       "      <td>1</td>\n",
       "      <td>A</td>\n",
       "      <td>47.0</td>\n",
       "      <td>47.1</td>\n",
       "      <td>0.1</td>\n",
       "    </tr>\n",
       "  </tbody>\n",
       "</table>\n",
       "</div>"
      ],
      "text/plain": [
       "   id  age Happy_Sad_group  Dosage Drug  Mem_Score_Before  Mem_Score_After  \\\n",
       "0   0   25               H       1    A              63.5             61.2   \n",
       "1   1   52               S       1    A              41.6             40.7   \n",
       "2   2   29               H       1    A              59.7             55.1   \n",
       "3   3   50               S       1    A              51.7             51.2   \n",
       "4   4   52               H       1    A              47.0             47.1   \n",
       "\n",
       "   Diff  \n",
       "0  -2.3  \n",
       "1  -0.9  \n",
       "2  -4.6  \n",
       "3  -0.5  \n",
       "4   0.1  "
      ]
     },
     "execution_count": 6,
     "metadata": {},
     "output_type": "execute_result"
    }
   ],
   "source": [
    "# Replacing the name columns with ID numbers to make data anonymous\n",
    "df_memory1 = df_memory.drop(['first_name', 'last_name'], axis = 1).reset_index()\n",
    "df_memory1 = df_memory1.rename(columns = {'index' : 'id'})\n",
    "df_memory1.head()"
   ]
  },
  {
   "cell_type": "markdown",
   "id": "df8a494b",
   "metadata": {},
   "source": [
    "*Now that names are removed, the data is anonymized. Names are replaced with ids to help identify unique rows.*"
   ]
  },
  {
   "cell_type": "markdown",
   "id": "1c6245b3",
   "metadata": {},
   "source": [
    "## Discovery"
   ]
  },
  {
   "cell_type": "code",
   "execution_count": 7,
   "id": "109181fd",
   "metadata": {},
   "outputs": [
    {
     "data": {
      "text/html": [
       "<div>\n",
       "<style scoped>\n",
       "    .dataframe tbody tr th:only-of-type {\n",
       "        vertical-align: middle;\n",
       "    }\n",
       "\n",
       "    .dataframe tbody tr th {\n",
       "        vertical-align: top;\n",
       "    }\n",
       "\n",
       "    .dataframe thead th {\n",
       "        text-align: right;\n",
       "    }\n",
       "</style>\n",
       "<table border=\"1\" class=\"dataframe\">\n",
       "  <thead>\n",
       "    <tr style=\"text-align: right;\">\n",
       "      <th></th>\n",
       "      <th>id</th>\n",
       "      <th>age</th>\n",
       "      <th>Happy_Sad_group</th>\n",
       "      <th>Dosage</th>\n",
       "      <th>Drug</th>\n",
       "      <th>Mem_Score_Before</th>\n",
       "      <th>Mem_Score_After</th>\n",
       "      <th>Diff</th>\n",
       "    </tr>\n",
       "  </thead>\n",
       "  <tbody>\n",
       "    <tr>\n",
       "      <th>0</th>\n",
       "      <td>0</td>\n",
       "      <td>25</td>\n",
       "      <td>H</td>\n",
       "      <td>1</td>\n",
       "      <td>A</td>\n",
       "      <td>63.5</td>\n",
       "      <td>61.2</td>\n",
       "      <td>-2.3</td>\n",
       "    </tr>\n",
       "    <tr>\n",
       "      <th>1</th>\n",
       "      <td>1</td>\n",
       "      <td>52</td>\n",
       "      <td>S</td>\n",
       "      <td>1</td>\n",
       "      <td>A</td>\n",
       "      <td>41.6</td>\n",
       "      <td>40.7</td>\n",
       "      <td>-0.9</td>\n",
       "    </tr>\n",
       "    <tr>\n",
       "      <th>2</th>\n",
       "      <td>2</td>\n",
       "      <td>29</td>\n",
       "      <td>H</td>\n",
       "      <td>1</td>\n",
       "      <td>A</td>\n",
       "      <td>59.7</td>\n",
       "      <td>55.1</td>\n",
       "      <td>-4.6</td>\n",
       "    </tr>\n",
       "    <tr>\n",
       "      <th>3</th>\n",
       "      <td>3</td>\n",
       "      <td>50</td>\n",
       "      <td>S</td>\n",
       "      <td>1</td>\n",
       "      <td>A</td>\n",
       "      <td>51.7</td>\n",
       "      <td>51.2</td>\n",
       "      <td>-0.5</td>\n",
       "    </tr>\n",
       "    <tr>\n",
       "      <th>4</th>\n",
       "      <td>4</td>\n",
       "      <td>52</td>\n",
       "      <td>H</td>\n",
       "      <td>1</td>\n",
       "      <td>A</td>\n",
       "      <td>47.0</td>\n",
       "      <td>47.1</td>\n",
       "      <td>0.1</td>\n",
       "    </tr>\n",
       "  </tbody>\n",
       "</table>\n",
       "</div>"
      ],
      "text/plain": [
       "   id  age Happy_Sad_group  Dosage Drug  Mem_Score_Before  Mem_Score_After  \\\n",
       "0   0   25               H       1    A              63.5             61.2   \n",
       "1   1   52               S       1    A              41.6             40.7   \n",
       "2   2   29               H       1    A              59.7             55.1   \n",
       "3   3   50               S       1    A              51.7             51.2   \n",
       "4   4   52               H       1    A              47.0             47.1   \n",
       "\n",
       "   Diff  \n",
       "0  -2.3  \n",
       "1  -0.9  \n",
       "2  -4.6  \n",
       "3  -0.5  \n",
       "4   0.1  "
      ]
     },
     "execution_count": 7,
     "metadata": {},
     "output_type": "execute_result"
    }
   ],
   "source": [
    "# Viewing data\n",
    "df_memory1.head()"
   ]
  },
  {
   "cell_type": "code",
   "execution_count": 8,
   "id": "bc14d44e",
   "metadata": {
    "scrolled": false
   },
   "outputs": [
    {
     "data": {
      "text/plain": [
       "(198, 8)"
      ]
     },
     "execution_count": 8,
     "metadata": {},
     "output_type": "execute_result"
    }
   ],
   "source": [
    "# Viewing dataframe structure\n",
    "df_memory1.shape"
   ]
  },
  {
   "cell_type": "code",
   "execution_count": 9,
   "id": "88d49ab3",
   "metadata": {
    "scrolled": false
   },
   "outputs": [
    {
     "name": "stdout",
     "output_type": "stream",
     "text": [
      "<class 'pandas.core.frame.DataFrame'>\n",
      "RangeIndex: 198 entries, 0 to 197\n",
      "Data columns (total 8 columns):\n",
      " #   Column            Non-Null Count  Dtype  \n",
      "---  ------            --------------  -----  \n",
      " 0   id                198 non-null    int64  \n",
      " 1   age               198 non-null    int64  \n",
      " 2   Happy_Sad_group   198 non-null    object \n",
      " 3   Dosage            198 non-null    int64  \n",
      " 4   Drug              198 non-null    object \n",
      " 5   Mem_Score_Before  198 non-null    float64\n",
      " 6   Mem_Score_After   198 non-null    float64\n",
      " 7   Diff              198 non-null    float64\n",
      "dtypes: float64(3), int64(3), object(2)\n",
      "memory usage: 12.5+ KB\n"
     ]
    }
   ],
   "source": [
    "# Viewing data types and non-null value count\n",
    "df_memory1.info()"
   ]
  },
  {
   "cell_type": "markdown",
   "id": "89c51d80",
   "metadata": {},
   "source": [
    "*It seems that most of the data is of the correct type. The only change is that 'Dosage' should be categorical. There do not appear to be null values in any of the columns. Capitalization of column names is inconsistent and should be changed.*"
   ]
  },
  {
   "cell_type": "code",
   "execution_count": 10,
   "id": "1d6667ac",
   "metadata": {},
   "outputs": [],
   "source": [
    "# Making all column names lowercase\n",
    "for col in list(df_memory1.columns):\n",
    "    df_memory1 = df_memory1.rename(columns = {col : str.lower(col)})"
   ]
  },
  {
   "cell_type": "code",
   "execution_count": 11,
   "id": "ad2a6b78",
   "metadata": {
    "scrolled": false
   },
   "outputs": [
    {
     "data": {
      "text/html": [
       "<div>\n",
       "<style scoped>\n",
       "    .dataframe tbody tr th:only-of-type {\n",
       "        vertical-align: middle;\n",
       "    }\n",
       "\n",
       "    .dataframe tbody tr th {\n",
       "        vertical-align: top;\n",
       "    }\n",
       "\n",
       "    .dataframe thead th {\n",
       "        text-align: right;\n",
       "    }\n",
       "</style>\n",
       "<table border=\"1\" class=\"dataframe\">\n",
       "  <thead>\n",
       "    <tr style=\"text-align: right;\">\n",
       "      <th></th>\n",
       "      <th>id</th>\n",
       "      <th>age</th>\n",
       "      <th>happy_sad_group</th>\n",
       "      <th>dosage</th>\n",
       "      <th>drug</th>\n",
       "      <th>mem_score_before</th>\n",
       "      <th>mem_score_after</th>\n",
       "      <th>diff</th>\n",
       "    </tr>\n",
       "  </thead>\n",
       "  <tbody>\n",
       "    <tr>\n",
       "      <th>count</th>\n",
       "      <td>198.000000</td>\n",
       "      <td>198.000000</td>\n",
       "      <td>198</td>\n",
       "      <td>198.000000</td>\n",
       "      <td>198</td>\n",
       "      <td>198.000000</td>\n",
       "      <td>198.000000</td>\n",
       "      <td>198.000000</td>\n",
       "    </tr>\n",
       "    <tr>\n",
       "      <th>unique</th>\n",
       "      <td>NaN</td>\n",
       "      <td>NaN</td>\n",
       "      <td>2</td>\n",
       "      <td>NaN</td>\n",
       "      <td>3</td>\n",
       "      <td>NaN</td>\n",
       "      <td>NaN</td>\n",
       "      <td>NaN</td>\n",
       "    </tr>\n",
       "    <tr>\n",
       "      <th>top</th>\n",
       "      <td>NaN</td>\n",
       "      <td>NaN</td>\n",
       "      <td>H</td>\n",
       "      <td>NaN</td>\n",
       "      <td>A</td>\n",
       "      <td>NaN</td>\n",
       "      <td>NaN</td>\n",
       "      <td>NaN</td>\n",
       "    </tr>\n",
       "    <tr>\n",
       "      <th>freq</th>\n",
       "      <td>NaN</td>\n",
       "      <td>NaN</td>\n",
       "      <td>99</td>\n",
       "      <td>NaN</td>\n",
       "      <td>67</td>\n",
       "      <td>NaN</td>\n",
       "      <td>NaN</td>\n",
       "      <td>NaN</td>\n",
       "    </tr>\n",
       "    <tr>\n",
       "      <th>mean</th>\n",
       "      <td>98.500000</td>\n",
       "      <td>39.530303</td>\n",
       "      <td>NaN</td>\n",
       "      <td>1.989899</td>\n",
       "      <td>NaN</td>\n",
       "      <td>57.967677</td>\n",
       "      <td>60.922222</td>\n",
       "      <td>2.954545</td>\n",
       "    </tr>\n",
       "    <tr>\n",
       "      <th>std</th>\n",
       "      <td>57.301832</td>\n",
       "      <td>12.023099</td>\n",
       "      <td>NaN</td>\n",
       "      <td>0.818504</td>\n",
       "      <td>NaN</td>\n",
       "      <td>15.766007</td>\n",
       "      <td>18.133851</td>\n",
       "      <td>10.754603</td>\n",
       "    </tr>\n",
       "    <tr>\n",
       "      <th>min</th>\n",
       "      <td>0.000000</td>\n",
       "      <td>24.000000</td>\n",
       "      <td>NaN</td>\n",
       "      <td>1.000000</td>\n",
       "      <td>NaN</td>\n",
       "      <td>27.200000</td>\n",
       "      <td>27.100000</td>\n",
       "      <td>-40.400000</td>\n",
       "    </tr>\n",
       "    <tr>\n",
       "      <th>25%</th>\n",
       "      <td>49.250000</td>\n",
       "      <td>30.000000</td>\n",
       "      <td>NaN</td>\n",
       "      <td>1.000000</td>\n",
       "      <td>NaN</td>\n",
       "      <td>46.525000</td>\n",
       "      <td>47.175000</td>\n",
       "      <td>-3.175000</td>\n",
       "    </tr>\n",
       "    <tr>\n",
       "      <th>50%</th>\n",
       "      <td>98.500000</td>\n",
       "      <td>37.000000</td>\n",
       "      <td>NaN</td>\n",
       "      <td>2.000000</td>\n",
       "      <td>NaN</td>\n",
       "      <td>54.800000</td>\n",
       "      <td>56.750000</td>\n",
       "      <td>1.700000</td>\n",
       "    </tr>\n",
       "    <tr>\n",
       "      <th>75%</th>\n",
       "      <td>147.750000</td>\n",
       "      <td>48.000000</td>\n",
       "      <td>NaN</td>\n",
       "      <td>3.000000</td>\n",
       "      <td>NaN</td>\n",
       "      <td>68.400000</td>\n",
       "      <td>73.250000</td>\n",
       "      <td>5.925000</td>\n",
       "    </tr>\n",
       "    <tr>\n",
       "      <th>max</th>\n",
       "      <td>197.000000</td>\n",
       "      <td>83.000000</td>\n",
       "      <td>NaN</td>\n",
       "      <td>3.000000</td>\n",
       "      <td>NaN</td>\n",
       "      <td>110.000000</td>\n",
       "      <td>120.000000</td>\n",
       "      <td>49.000000</td>\n",
       "    </tr>\n",
       "  </tbody>\n",
       "</table>\n",
       "</div>"
      ],
      "text/plain": [
       "                id         age happy_sad_group      dosage drug  \\\n",
       "count   198.000000  198.000000             198  198.000000  198   \n",
       "unique         NaN         NaN               2         NaN    3   \n",
       "top            NaN         NaN               H         NaN    A   \n",
       "freq           NaN         NaN              99         NaN   67   \n",
       "mean     98.500000   39.530303             NaN    1.989899  NaN   \n",
       "std      57.301832   12.023099             NaN    0.818504  NaN   \n",
       "min       0.000000   24.000000             NaN    1.000000  NaN   \n",
       "25%      49.250000   30.000000             NaN    1.000000  NaN   \n",
       "50%      98.500000   37.000000             NaN    2.000000  NaN   \n",
       "75%     147.750000   48.000000             NaN    3.000000  NaN   \n",
       "max     197.000000   83.000000             NaN    3.000000  NaN   \n",
       "\n",
       "        mem_score_before  mem_score_after        diff  \n",
       "count         198.000000       198.000000  198.000000  \n",
       "unique               NaN              NaN         NaN  \n",
       "top                  NaN              NaN         NaN  \n",
       "freq                 NaN              NaN         NaN  \n",
       "mean           57.967677        60.922222    2.954545  \n",
       "std            15.766007        18.133851   10.754603  \n",
       "min            27.200000        27.100000  -40.400000  \n",
       "25%            46.525000        47.175000   -3.175000  \n",
       "50%            54.800000        56.750000    1.700000  \n",
       "75%            68.400000        73.250000    5.925000  \n",
       "max           110.000000       120.000000   49.000000  "
      ]
     },
     "execution_count": 11,
     "metadata": {},
     "output_type": "execute_result"
    }
   ],
   "source": [
    "# Exploring descriptive statistics\n",
    "df_memory1.describe(include = 'all')"
   ]
  },
  {
   "cell_type": "markdown",
   "id": "ed3c6b5e",
   "metadata": {},
   "source": [
    "*Descriptive statistics reveal that participant ages range from 24 to 83, with a mean age of 39.53. The average difference in before vs. after memory scores is 2.95, ranging from -40.40 to 49.*"
   ]
  },
  {
   "cell_type": "code",
   "execution_count": 12,
   "id": "572f1bf1",
   "metadata": {
    "scrolled": true
   },
   "outputs": [
    {
     "name": "stdout",
     "output_type": "stream",
     "text": [
      "H    99\n",
      "S    99\n",
      "Name: happy_sad_group, dtype: int64\n",
      "A    67\n",
      "S    66\n",
      "T    65\n",
      "Name: drug, dtype: int64\n",
      "1    67\n",
      "2    66\n",
      "3    65\n",
      "Name: dosage, dtype: int64\n"
     ]
    }
   ],
   "source": [
    "# Looking at groups of different columns\n",
    "print(df_memory1['happy_sad_group'].value_counts())\n",
    "print(df_memory1['drug'].value_counts())\n",
    "print(df_memory1['dosage'].value_counts())"
   ]
  },
  {
   "cell_type": "markdown",
   "id": "993dceec",
   "metadata": {},
   "source": [
    "*The data appears to be evenly split into the different groups for each of the independent variables.*"
   ]
  },
  {
   "cell_type": "code",
   "execution_count": 13,
   "id": "dc67d5cb",
   "metadata": {},
   "outputs": [],
   "source": [
    "# Defining a function to produce descriptive statistics for specified columns\n",
    "def descriptive_stats(df, col_list):\n",
    "    for col in col_list:\n",
    "        print(f'{col} range: {min(df[col]):.2f} to {max(df[col]):.2f}')\n",
    "        print(f'mean {col}: {np.mean(df[col]):.2f}')\n",
    "        print()"
   ]
  },
  {
   "cell_type": "code",
   "execution_count": 14,
   "id": "79fec4b0",
   "metadata": {
    "scrolled": true
   },
   "outputs": [
    {
     "name": "stdout",
     "output_type": "stream",
     "text": [
      "age range: 24.00 to 83.00\n",
      "mean age: 39.53\n",
      "\n",
      "mem_score_before range: 27.20 to 110.00\n",
      "mean mem_score_before: 57.97\n",
      "\n",
      "mem_score_after range: 27.10 to 120.00\n",
      "mean mem_score_after: 60.92\n",
      "\n",
      "diff range: -40.40 to 49.00\n",
      "mean diff: 2.95\n",
      "\n"
     ]
    }
   ],
   "source": [
    "# Getting descriptive stats for the numeric columns\n",
    "descriptive_stats(df_memory1, ['age', 'mem_score_before', 'mem_score_after', 'diff'])"
   ]
  },
  {
   "cell_type": "code",
   "execution_count": 15,
   "id": "a6dc2359",
   "metadata": {
    "scrolled": true
   },
   "outputs": [
    {
     "name": "stdout",
     "output_type": "stream",
     "text": [
      "Happy group:\n",
      "mem_score_before range: 27.20 to 110.00\n",
      "mean mem_score_before: 57.84\n",
      "\n",
      "mem_score_after range: 27.10 to 114.00\n",
      "mean mem_score_after: 60.58\n",
      "\n",
      "diff range: -22.20 to 49.00\n",
      "mean diff: 2.73\n",
      "\n",
      "Sad group:\n",
      "mem_score_before range: 28.30 to 90.00\n",
      "mean mem_score_before: 58.09\n",
      "\n",
      "mem_score_after range: 30.50 to 120.00\n",
      "mean mem_score_after: 61.27\n",
      "\n",
      "diff range: -40.40 to 39.00\n",
      "mean diff: 3.18\n",
      "\n"
     ]
    }
   ],
   "source": [
    "# Comparing descriptive stats for the happy group versus the sad group\n",
    "df_happy = df_memory1[df_memory1['happy_sad_group'] == 'H']\n",
    "df_sad = df_memory1[df_memory1['happy_sad_group'] == 'S']\n",
    "\n",
    "print('Happy group:')\n",
    "descriptive_stats(df_happy, ['mem_score_before', 'mem_score_after', 'diff'])\n",
    "\n",
    "print('Sad group:')\n",
    "descriptive_stats(df_sad, ['mem_score_before', 'mem_score_after', 'diff'])"
   ]
  },
  {
   "cell_type": "markdown",
   "id": "e68cfbec",
   "metadata": {},
   "source": [
    "*The happy priming group had a lower average difference in memory response time compared to the sad priming group. A two-sample t-test can confirm whether or not this difference is statistically significant.*"
   ]
  },
  {
   "cell_type": "code",
   "execution_count": 16,
   "id": "8473ac2a",
   "metadata": {
    "scrolled": true
   },
   "outputs": [
    {
     "name": "stdout",
     "output_type": "stream",
     "text": [
      "Drug A (Xanax):\n",
      "diff range: -16.30 to 49.00\n",
      "mean diff: 9.47\n",
      "\n",
      "Drug S (Control):\n",
      "diff range: -40.40 to 16.00\n",
      "mean diff: -0.17\n",
      "\n",
      "Drug T (Halcion):\n",
      "diff range: -22.20 to 24.10\n",
      "mean diff: -0.59\n",
      "\n"
     ]
    }
   ],
   "source": [
    "# Comparing descriptive stats for the different drug groups\n",
    "df_drug_A = df_memory1[df_memory1['drug'] == 'A']\n",
    "df_drug_S = df_memory1[df_memory1['drug'] == 'S']\n",
    "df_drug_T = df_memory1[df_memory1['drug'] == 'T']\n",
    "\n",
    "print('Drug A (Xanax):')\n",
    "descriptive_stats(df_drug_A, ['diff'])\n",
    "\n",
    "print('Drug S (Control):')\n",
    "descriptive_stats(df_drug_S, ['diff'])\n",
    "\n",
    "print('Drug T (Halcion):')\n",
    "descriptive_stats(df_drug_T, ['diff'])"
   ]
  },
  {
   "cell_type": "markdown",
   "id": "bf1bdb6f",
   "metadata": {},
   "source": [
    "*The drug A (Xanax) group had higher differences in before vs. after memory response time relative to the other two drug groups. A one-way ANOVA can confirm whether or not this difference is statistically significant.*"
   ]
  },
  {
   "cell_type": "markdown",
   "id": "e226f5eb",
   "metadata": {},
   "source": [
    "## Cleaning and Structuring"
   ]
  },
  {
   "cell_type": "code",
   "execution_count": 17,
   "id": "f7e962de",
   "metadata": {},
   "outputs": [],
   "source": [
    "# Creating a separate dataset for the cleaned data\n",
    "df_memory_clean = df_memory1.copy()"
   ]
  },
  {
   "cell_type": "markdown",
   "id": "8ee69fbb",
   "metadata": {},
   "source": [
    "*Creating a copy of the dataset that will be cleaned, leaving the original dataset intact.*"
   ]
  },
  {
   "cell_type": "code",
   "execution_count": 18,
   "id": "3c421ad0",
   "metadata": {},
   "outputs": [],
   "source": [
    "# Changing drug 'S' to 'Control' for clarity. 'S' stands for 'Sugar' (placebo)\n",
    "df_memory_clean['drug'] = df_memory_clean['drug'].replace('S', 'Control')"
   ]
  },
  {
   "cell_type": "code",
   "execution_count": 19,
   "id": "bc8f3724",
   "metadata": {
    "scrolled": true
   },
   "outputs": [
    {
     "data": {
      "text/plain": [
       "id                  0\n",
       "age                 0\n",
       "happy_sad_group     0\n",
       "dosage              0\n",
       "drug                0\n",
       "mem_score_before    0\n",
       "mem_score_after     0\n",
       "diff                0\n",
       "dtype: int64"
      ]
     },
     "execution_count": 19,
     "metadata": {},
     "output_type": "execute_result"
    }
   ],
   "source": [
    "# Double checking for NULL values\n",
    "df_memory_clean.isna().sum()"
   ]
  },
  {
   "cell_type": "code",
   "execution_count": 20,
   "id": "35588d6a",
   "metadata": {},
   "outputs": [],
   "source": [
    "# Changing the dosage column to categorical and assigning the categories names\n",
    "dose_cat = ['low', 'moderate', 'high']\n",
    "\n",
    "df_memory_clean['dosage'] = pd.Categorical(\n",
    "    df_memory_clean['dosage'].replace({1 : 'low', 2 : 'moderate', 3 : 'high'}),\n",
    "               categories = dose_cat, ordered = True)"
   ]
  },
  {
   "cell_type": "markdown",
   "id": "09f13cc3",
   "metadata": {},
   "source": [
    "*This ensures that the 'dosage' column will be treated as categorical. The data is ordered, with higher doses being greater than moderate or low doses.*"
   ]
  },
  {
   "cell_type": "code",
   "execution_count": 21,
   "id": "c8f0cb6a",
   "metadata": {
    "scrolled": true
   },
   "outputs": [
    {
     "data": {
      "text/html": [
       "<div>\n",
       "<style scoped>\n",
       "    .dataframe tbody tr th:only-of-type {\n",
       "        vertical-align: middle;\n",
       "    }\n",
       "\n",
       "    .dataframe tbody tr th {\n",
       "        vertical-align: top;\n",
       "    }\n",
       "\n",
       "    .dataframe thead th {\n",
       "        text-align: right;\n",
       "    }\n",
       "</style>\n",
       "<table border=\"1\" class=\"dataframe\">\n",
       "  <thead>\n",
       "    <tr style=\"text-align: right;\">\n",
       "      <th></th>\n",
       "      <th>id</th>\n",
       "      <th>age</th>\n",
       "      <th>happy_sad_group</th>\n",
       "      <th>dosage</th>\n",
       "      <th>drug</th>\n",
       "      <th>mem_score_before</th>\n",
       "      <th>mem_score_after</th>\n",
       "      <th>diff</th>\n",
       "    </tr>\n",
       "  </thead>\n",
       "  <tbody>\n",
       "  </tbody>\n",
       "</table>\n",
       "</div>"
      ],
      "text/plain": [
       "Empty DataFrame\n",
       "Columns: [id, age, happy_sad_group, dosage, drug, mem_score_before, mem_score_after, diff]\n",
       "Index: []"
      ]
     },
     "execution_count": 21,
     "metadata": {},
     "output_type": "execute_result"
    }
   ],
   "source": [
    "# Checking for duplicates\n",
    "df_memory_clean[df_memory_clean.duplicated(df_memory_clean.columns[1:]) == True]"
   ]
  },
  {
   "cell_type": "markdown",
   "id": "31ff3eff",
   "metadata": {},
   "source": [
    "*A search for rows containing duplicate data (other than the row id) revealed that there are no duplicates.*"
   ]
  },
  {
   "cell_type": "code",
   "execution_count": 22,
   "id": "cd6ea294",
   "metadata": {},
   "outputs": [],
   "source": [
    "# Defining a function to check for outliers (values outside of 3 standard deviations from the mean)\n",
    "def outliers (df, column):\n",
    "    df_copy = df.copy()\n",
    "    df_copy['zscore'] = stats.zscore(df[column])\n",
    "    return df_copy[(df_copy['zscore'] > 3) | (df_copy['zscore'] < -3)]"
   ]
  },
  {
   "cell_type": "code",
   "execution_count": 23,
   "id": "639823b1",
   "metadata": {
    "scrolled": false
   },
   "outputs": [
    {
     "data": {
      "text/html": [
       "<div>\n",
       "<style scoped>\n",
       "    .dataframe tbody tr th:only-of-type {\n",
       "        vertical-align: middle;\n",
       "    }\n",
       "\n",
       "    .dataframe tbody tr th {\n",
       "        vertical-align: top;\n",
       "    }\n",
       "\n",
       "    .dataframe thead th {\n",
       "        text-align: right;\n",
       "    }\n",
       "</style>\n",
       "<table border=\"1\" class=\"dataframe\">\n",
       "  <thead>\n",
       "    <tr style=\"text-align: right;\">\n",
       "      <th></th>\n",
       "      <th>id</th>\n",
       "      <th>age</th>\n",
       "      <th>happy_sad_group</th>\n",
       "      <th>dosage</th>\n",
       "      <th>drug</th>\n",
       "      <th>mem_score_before</th>\n",
       "      <th>mem_score_after</th>\n",
       "      <th>diff</th>\n",
       "      <th>zscore</th>\n",
       "    </tr>\n",
       "  </thead>\n",
       "  <tbody>\n",
       "    <tr>\n",
       "      <th>157</th>\n",
       "      <td>157</td>\n",
       "      <td>83</td>\n",
       "      <td>H</td>\n",
       "      <td>moderate</td>\n",
       "      <td>T</td>\n",
       "      <td>44.2</td>\n",
       "      <td>44.5</td>\n",
       "      <td>0.3</td>\n",
       "      <td>3.624680</td>\n",
       "    </tr>\n",
       "    <tr>\n",
       "      <th>181</th>\n",
       "      <td>181</td>\n",
       "      <td>80</td>\n",
       "      <td>S</td>\n",
       "      <td>high</td>\n",
       "      <td>T</td>\n",
       "      <td>58.4</td>\n",
       "      <td>63.6</td>\n",
       "      <td>5.2</td>\n",
       "      <td>3.374528</td>\n",
       "    </tr>\n",
       "  </tbody>\n",
       "</table>\n",
       "</div>"
      ],
      "text/plain": [
       "      id  age happy_sad_group    dosage drug  mem_score_before  \\\n",
       "157  157   83               H  moderate    T              44.2   \n",
       "181  181   80               S      high    T              58.4   \n",
       "\n",
       "     mem_score_after  diff    zscore  \n",
       "157             44.5   0.3  3.624680  \n",
       "181             63.6   5.2  3.374528  "
      ]
     },
     "execution_count": 23,
     "metadata": {},
     "output_type": "execute_result"
    }
   ],
   "source": [
    "outliers(df_memory_clean, 'age')"
   ]
  },
  {
   "cell_type": "markdown",
   "id": "f2cfff9b",
   "metadata": {},
   "source": [
    "*There are two rows with ages greater than three standard deviations from the mean. It doesn't appear as though there are any problems with these observations, so even though they can be considered outliers, I chose not to remove them from the data.*"
   ]
  },
  {
   "cell_type": "code",
   "execution_count": 24,
   "id": "c2acad3e",
   "metadata": {
    "scrolled": true
   },
   "outputs": [
    {
     "data": {
      "text/html": [
       "<div>\n",
       "<style scoped>\n",
       "    .dataframe tbody tr th:only-of-type {\n",
       "        vertical-align: middle;\n",
       "    }\n",
       "\n",
       "    .dataframe tbody tr th {\n",
       "        vertical-align: top;\n",
       "    }\n",
       "\n",
       "    .dataframe thead th {\n",
       "        text-align: right;\n",
       "    }\n",
       "</style>\n",
       "<table border=\"1\" class=\"dataframe\">\n",
       "  <thead>\n",
       "    <tr style=\"text-align: right;\">\n",
       "      <th></th>\n",
       "      <th>id</th>\n",
       "      <th>age</th>\n",
       "      <th>happy_sad_group</th>\n",
       "      <th>dosage</th>\n",
       "      <th>drug</th>\n",
       "      <th>mem_score_before</th>\n",
       "      <th>mem_score_after</th>\n",
       "      <th>diff</th>\n",
       "      <th>zscore</th>\n",
       "    </tr>\n",
       "  </thead>\n",
       "  <tbody>\n",
       "    <tr>\n",
       "      <th>48</th>\n",
       "      <td>48</td>\n",
       "      <td>35</td>\n",
       "      <td>H</td>\n",
       "      <td>high</td>\n",
       "      <td>A</td>\n",
       "      <td>65.0</td>\n",
       "      <td>114.0</td>\n",
       "      <td>49.0</td>\n",
       "      <td>4.292318</td>\n",
       "    </tr>\n",
       "    <tr>\n",
       "      <th>56</th>\n",
       "      <td>56</td>\n",
       "      <td>27</td>\n",
       "      <td>S</td>\n",
       "      <td>high</td>\n",
       "      <td>A</td>\n",
       "      <td>81.0</td>\n",
       "      <td>120.0</td>\n",
       "      <td>39.0</td>\n",
       "      <td>3.360126</td>\n",
       "    </tr>\n",
       "    <tr>\n",
       "      <th>60</th>\n",
       "      <td>60</td>\n",
       "      <td>34</td>\n",
       "      <td>S</td>\n",
       "      <td>high</td>\n",
       "      <td>A</td>\n",
       "      <td>57.3</td>\n",
       "      <td>96.0</td>\n",
       "      <td>38.7</td>\n",
       "      <td>3.332161</td>\n",
       "    </tr>\n",
       "    <tr>\n",
       "      <th>109</th>\n",
       "      <td>109</td>\n",
       "      <td>31</td>\n",
       "      <td>S</td>\n",
       "      <td>moderate</td>\n",
       "      <td>Control</td>\n",
       "      <td>84.5</td>\n",
       "      <td>44.1</td>\n",
       "      <td>-40.4</td>\n",
       "      <td>-4.041474</td>\n",
       "    </tr>\n",
       "  </tbody>\n",
       "</table>\n",
       "</div>"
      ],
      "text/plain": [
       "      id  age happy_sad_group    dosage     drug  mem_score_before  \\\n",
       "48    48   35               H      high        A              65.0   \n",
       "56    56   27               S      high        A              81.0   \n",
       "60    60   34               S      high        A              57.3   \n",
       "109  109   31               S  moderate  Control              84.5   \n",
       "\n",
       "     mem_score_after  diff    zscore  \n",
       "48             114.0  49.0  4.292318  \n",
       "56             120.0  39.0  3.360126  \n",
       "60              96.0  38.7  3.332161  \n",
       "109             44.1 -40.4 -4.041474  "
      ]
     },
     "execution_count": 24,
     "metadata": {},
     "output_type": "execute_result"
    }
   ],
   "source": [
    "outliers(df_memory_clean, 'diff')"
   ]
  },
  {
   "cell_type": "markdown",
   "id": "0e623db3",
   "metadata": {},
   "source": [
    "*There are four rows that have outliers in the 'diff' column. This is our dependent variable of interest. Two of the observations are greater than four standard deviations from the mean, these observations could skew the results of our analyses.*"
   ]
  },
  {
   "cell_type": "code",
   "execution_count": 25,
   "id": "92eef02f",
   "metadata": {
    "scrolled": true
   },
   "outputs": [
    {
     "data": {
      "text/html": [
       "<div>\n",
       "<style scoped>\n",
       "    .dataframe tbody tr th:only-of-type {\n",
       "        vertical-align: middle;\n",
       "    }\n",
       "\n",
       "    .dataframe tbody tr th {\n",
       "        vertical-align: top;\n",
       "    }\n",
       "\n",
       "    .dataframe thead th {\n",
       "        text-align: right;\n",
       "    }\n",
       "</style>\n",
       "<table border=\"1\" class=\"dataframe\">\n",
       "  <thead>\n",
       "    <tr style=\"text-align: right;\">\n",
       "      <th></th>\n",
       "      <th>id</th>\n",
       "      <th>age</th>\n",
       "      <th>happy_sad_group</th>\n",
       "      <th>dosage</th>\n",
       "      <th>drug</th>\n",
       "      <th>mem_score_before</th>\n",
       "      <th>mem_score_after</th>\n",
       "      <th>diff</th>\n",
       "      <th>zscore</th>\n",
       "    </tr>\n",
       "  </thead>\n",
       "  <tbody>\n",
       "    <tr>\n",
       "      <th>188</th>\n",
       "      <td>188</td>\n",
       "      <td>73</td>\n",
       "      <td>H</td>\n",
       "      <td>high</td>\n",
       "      <td>T</td>\n",
       "      <td>110.0</td>\n",
       "      <td>87.8</td>\n",
       "      <td>-22.2</td>\n",
       "      <td>3.308651</td>\n",
       "    </tr>\n",
       "  </tbody>\n",
       "</table>\n",
       "</div>"
      ],
      "text/plain": [
       "      id  age happy_sad_group dosage drug  mem_score_before  mem_score_after  \\\n",
       "188  188   73               H   high    T             110.0             87.8   \n",
       "\n",
       "     diff    zscore  \n",
       "188 -22.2  3.308651  "
      ]
     },
     "execution_count": 25,
     "metadata": {},
     "output_type": "execute_result"
    }
   ],
   "source": [
    "outliers(df_memory_clean, 'mem_score_before')"
   ]
  },
  {
   "cell_type": "code",
   "execution_count": 26,
   "id": "256fb3b1",
   "metadata": {
    "scrolled": true
   },
   "outputs": [
    {
     "data": {
      "text/html": [
       "<div>\n",
       "<style scoped>\n",
       "    .dataframe tbody tr th:only-of-type {\n",
       "        vertical-align: middle;\n",
       "    }\n",
       "\n",
       "    .dataframe tbody tr th {\n",
       "        vertical-align: top;\n",
       "    }\n",
       "\n",
       "    .dataframe thead th {\n",
       "        text-align: right;\n",
       "    }\n",
       "</style>\n",
       "<table border=\"1\" class=\"dataframe\">\n",
       "  <thead>\n",
       "    <tr style=\"text-align: right;\">\n",
       "      <th></th>\n",
       "      <th>id</th>\n",
       "      <th>age</th>\n",
       "      <th>happy_sad_group</th>\n",
       "      <th>dosage</th>\n",
       "      <th>drug</th>\n",
       "      <th>mem_score_before</th>\n",
       "      <th>mem_score_after</th>\n",
       "      <th>diff</th>\n",
       "      <th>zscore</th>\n",
       "    </tr>\n",
       "  </thead>\n",
       "  <tbody>\n",
       "    <tr>\n",
       "      <th>56</th>\n",
       "      <td>56</td>\n",
       "      <td>27</td>\n",
       "      <td>S</td>\n",
       "      <td>high</td>\n",
       "      <td>A</td>\n",
       "      <td>81.0</td>\n",
       "      <td>120.0</td>\n",
       "      <td>39.0</td>\n",
       "      <td>3.266131</td>\n",
       "    </tr>\n",
       "  </tbody>\n",
       "</table>\n",
       "</div>"
      ],
      "text/plain": [
       "    id  age happy_sad_group dosage drug  mem_score_before  mem_score_after  \\\n",
       "56  56   27               S   high    A              81.0            120.0   \n",
       "\n",
       "    diff    zscore  \n",
       "56  39.0  3.266131  "
      ]
     },
     "execution_count": 26,
     "metadata": {},
     "output_type": "execute_result"
    }
   ],
   "source": [
    "outliers(df_memory_clean, 'mem_score_after')"
   ]
  },
  {
   "cell_type": "markdown",
   "id": "23ad83c7",
   "metadata": {},
   "source": [
    "*This row appears as an outlier in the 'mem_score_after' column and the 'diff' column. The reason it might be an outlier in the 'diff' column is because they had such a high 'before' score. It is not as far from the mean as some of the other rows, so I chose not to remove it.*"
   ]
  },
  {
   "cell_type": "code",
   "execution_count": 27,
   "id": "83e60121",
   "metadata": {},
   "outputs": [],
   "source": [
    "# Removing outliers more than 4 standard devations away from the mean as to not skew the results\n",
    "df_memory_clean = df_memory_clean[~df_memory_clean['id'].isin([48, 109])]"
   ]
  },
  {
   "cell_type": "markdown",
   "id": "296554e9",
   "metadata": {},
   "source": [
    "## Validating Cleaning and Structuring"
   ]
  },
  {
   "cell_type": "code",
   "execution_count": 28,
   "id": "471354eb",
   "metadata": {
    "scrolled": false
   },
   "outputs": [
    {
     "name": "stdout",
     "output_type": "stream",
     "text": [
      "<class 'pandas.core.frame.DataFrame'>\n",
      "Int64Index: 196 entries, 0 to 197\n",
      "Data columns (total 8 columns):\n",
      " #   Column            Non-Null Count  Dtype   \n",
      "---  ------            --------------  -----   \n",
      " 0   id                196 non-null    int64   \n",
      " 1   age               196 non-null    int64   \n",
      " 2   happy_sad_group   196 non-null    object  \n",
      " 3   dosage            196 non-null    category\n",
      " 4   drug              196 non-null    object  \n",
      " 5   mem_score_before  196 non-null    float64 \n",
      " 6   mem_score_after   196 non-null    float64 \n",
      " 7   diff              196 non-null    float64 \n",
      "dtypes: category(1), float64(3), int64(2), object(2)\n",
      "memory usage: 12.6+ KB\n"
     ]
    }
   ],
   "source": [
    "df_memory_clean.info()"
   ]
  },
  {
   "cell_type": "markdown",
   "id": "875cf590",
   "metadata": {},
   "source": [
    "*All of the columns are of the correct data type, there are no null values, and all of the column names are consistent.*"
   ]
  },
  {
   "cell_type": "code",
   "execution_count": 29,
   "id": "52994759",
   "metadata": {
    "scrolled": false
   },
   "outputs": [
    {
     "name": "stdout",
     "output_type": "stream",
     "text": [
      "low         67\n",
      "moderate    65\n",
      "high        64\n",
      "Name: dosage, dtype: int64\n",
      "A          66\n",
      "Control    65\n",
      "T          65\n",
      "Name: drug, dtype: int64\n"
     ]
    }
   ],
   "source": [
    "print(df_memory_clean['dosage'].value_counts())\n",
    "print(df_memory_clean['drug'].value_counts())"
   ]
  },
  {
   "cell_type": "markdown",
   "id": "7deba075",
   "metadata": {},
   "source": [
    "*The values in the 'dosage' column were properly changed, and drug 'S' (sugar) was properly changed to 'Control'.*"
   ]
  },
  {
   "cell_type": "code",
   "execution_count": 30,
   "id": "048c5b21",
   "metadata": {},
   "outputs": [
    {
     "data": {
      "text/html": [
       "<div>\n",
       "<style scoped>\n",
       "    .dataframe tbody tr th:only-of-type {\n",
       "        vertical-align: middle;\n",
       "    }\n",
       "\n",
       "    .dataframe tbody tr th {\n",
       "        vertical-align: top;\n",
       "    }\n",
       "\n",
       "    .dataframe thead th {\n",
       "        text-align: right;\n",
       "    }\n",
       "</style>\n",
       "<table border=\"1\" class=\"dataframe\">\n",
       "  <thead>\n",
       "    <tr style=\"text-align: right;\">\n",
       "      <th></th>\n",
       "      <th>id</th>\n",
       "      <th>age</th>\n",
       "      <th>happy_sad_group</th>\n",
       "      <th>dosage</th>\n",
       "      <th>drug</th>\n",
       "      <th>mem_score_before</th>\n",
       "      <th>mem_score_after</th>\n",
       "      <th>diff</th>\n",
       "    </tr>\n",
       "  </thead>\n",
       "  <tbody>\n",
       "  </tbody>\n",
       "</table>\n",
       "</div>"
      ],
      "text/plain": [
       "Empty DataFrame\n",
       "Columns: [id, age, happy_sad_group, dosage, drug, mem_score_before, mem_score_after, diff]\n",
       "Index: []"
      ]
     },
     "execution_count": 30,
     "metadata": {},
     "output_type": "execute_result"
    }
   ],
   "source": [
    "# Ensuring outlier rows got removed correctly\n",
    "df_memory_clean[df_memory_clean['id'].isin([48, 109])]"
   ]
  },
  {
   "cell_type": "markdown",
   "id": "ab04c51e",
   "metadata": {},
   "source": [
    "*The outlier rows were successfully removed from the dataset. The dataset is ready to be used for hypothesis testing.*"
   ]
  },
  {
   "cell_type": "markdown",
   "id": "2b4eff9f",
   "metadata": {},
   "source": [
    "# Hypothesis testing"
   ]
  },
  {
   "cell_type": "markdown",
   "id": "e0e404f6",
   "metadata": {},
   "source": [
    "## Test 1: A/B Test\n",
    "\n",
    "*A two-sample t-test.*\n",
    "\n",
    "Is the difference in before versus after memory scores significantly different based on randomly assigned happy/sad priming condition?\n",
    "\n",
    "### *Null and Alternative Hypotheses*\n",
    "\n",
    "**Null hypothesis:** There is no difference in memory response time between happy and sad priming conditions.\n",
    "\n",
    "**Alternative hypothesis:** There is a difference in memory response time between happy and sad priming condiitons.\n",
    "\n",
    "**Significance Level:**  *Alpha = 0.05.* "
   ]
  },
  {
   "cell_type": "code",
   "execution_count": 31,
   "id": "a1df64ca",
   "metadata": {},
   "outputs": [
    {
     "name": "stdout",
     "output_type": "stream",
     "text": [
      "T-test statistic: -0.9692032880076372 \n",
      "p-value: 0.3336652427658583\n"
     ]
    }
   ],
   "source": [
    "# Finding the t-test statistic and p-value\n",
    "happy_df = df_memory_clean[df_memory_clean['happy_sad_group'] == 'H']\n",
    "sad_df = df_memory_clean[df_memory_clean['happy_sad_group'] == 'S']\n",
    "\n",
    "(t_statistic, p_value) = stats.ttest_ind(a = happy_df['diff'], b = sad_df['diff'], equal_var = False)\n",
    "\n",
    "print(f'T-test statistic: {t_statistic} \\np-value: {p_value}')"
   ]
  },
  {
   "cell_type": "markdown",
   "id": "90d76bf5",
   "metadata": {},
   "source": [
    "**Result:** The resulting p-value of 0.34 is greater than the significance level of 0.05, indicating that we fail to reject the null hypothesis. The observed difference in memory response times between happy and sad priming conditions could be due to chance. There is no statistically significant effect of happy/sad priming condition on difference in memory response times."
   ]
  },
  {
   "cell_type": "code",
   "execution_count": 32,
   "id": "05369124",
   "metadata": {
    "scrolled": true
   },
   "outputs": [
    {
     "data": {
      "image/png": "[encoded data removed]",
      "text/plain": [
       "<Figure size 640x480 with 1 Axes>"
      ]
     },
     "metadata": {},
     "output_type": "display_data"
    }
   ],
   "source": [
    "# Visualization of Difference in Memory Response Time by Priming Condition\n",
    "fig, ax = plt.subplots()\n",
    "ax.bar(data = df_memory_clean, x = 'happy_sad_group', height = 'diff')\n",
    "ax.hlines(y = 0, xmin = -0.5, xmax = 1.5, linewidth = 1.5, color = 'r')\n",
    "plt.xticks([0, 1], ['Happy', 'Sad'])\n",
    "plt.xlabel('Priming condition', fontstyle = 'italic')\n",
    "plt.ylabel('Difference in response time', fontstyle = 'italic')\n",
    "plt.title('Difference in Memory Response Time by Priming Condition')\n",
    "plt.grid(linestyle =  '--', linewidth = 0.5)\n",
    "plt.show()"
   ]
  },
  {
   "cell_type": "markdown",
   "id": "1f290ce2",
   "metadata": {},
   "source": [
    "## Test 2: One-Way ANOVA\n",
    "\n",
    "*An analysis of variance with one categorical independent variable.*\n",
    "\n",
    "Is the difference in before versus after memory scores significantly different based on randomly assigned drug condition?\n",
    "\n",
    "### *Null and Alternative Hypotheses*\n",
    "\n",
    "**Null hypothesis:** There is no diffrence in memory response time between the three different drug conditions (Xanax, control, Halcion).\n",
    "\n",
    "**Alternative hypothesis:** There is a difference in memory response time between drug condiitons.\n",
    "\n",
    "**Significance Level:**  *Alpha = 0.05.* "
   ]
  },
  {
   "cell_type": "code",
   "execution_count": 33,
   "id": "6214792f",
   "metadata": {},
   "outputs": [
    {
     "data": {
      "text/html": [
       "<div>\n",
       "<style scoped>\n",
       "    .dataframe tbody tr th:only-of-type {\n",
       "        vertical-align: middle;\n",
       "    }\n",
       "\n",
       "    .dataframe tbody tr th {\n",
       "        vertical-align: top;\n",
       "    }\n",
       "\n",
       "    .dataframe thead th {\n",
       "        text-align: right;\n",
       "    }\n",
       "</style>\n",
       "<table border=\"1\" class=\"dataframe\">\n",
       "  <thead>\n",
       "    <tr style=\"text-align: right;\">\n",
       "      <th></th>\n",
       "      <th>sum_sq</th>\n",
       "      <th>df</th>\n",
       "      <th>F</th>\n",
       "      <th>PR(&gt;F)</th>\n",
       "    </tr>\n",
       "  </thead>\n",
       "  <tbody>\n",
       "    <tr>\n",
       "      <th>C(drug)</th>\n",
       "      <td>3534.485859</td>\n",
       "      <td>2.0</td>\n",
       "      <td>22.364315</td>\n",
       "      <td>1.838302e-09</td>\n",
       "    </tr>\n",
       "    <tr>\n",
       "      <th>Residual</th>\n",
       "      <td>15250.987611</td>\n",
       "      <td>193.0</td>\n",
       "      <td>NaN</td>\n",
       "      <td>NaN</td>\n",
       "    </tr>\n",
       "  </tbody>\n",
       "</table>\n",
       "</div>"
      ],
      "text/plain": [
       "                sum_sq     df          F        PR(>F)\n",
       "C(drug)    3534.485859    2.0  22.364315  1.838302e-09\n",
       "Residual  15250.987611  193.0        NaN           NaN"
      ]
     },
     "execution_count": 33,
     "metadata": {},
     "output_type": "execute_result"
    }
   ],
   "source": [
    "# Finding the F-test statistic and p-value\n",
    "anova_model = ols('diff ~ C(drug)', data = df_memory_clean).fit()\n",
    "\n",
    "sm.stats.anova_lm(anova_model, typ = 2)"
   ]
  },
  {
   "cell_type": "code",
   "execution_count": 34,
   "id": "c8e49108",
   "metadata": {
    "scrolled": true
   },
   "outputs": [
    {
     "data": {
      "text/html": [
       "<table class=\"simpletable\">\n",
       "<caption>Multiple Comparison of Means - Tukey HSD, FWER=0.05</caption>\n",
       "<tr>\n",
       "  <th>group1</th>  <th>group2</th>  <th>meandiff</th>  <th>p-adj</th>   <th>lower</th>   <th>upper</th>  <th>reject</th>\n",
       "</tr>\n",
       "<tr>\n",
       "     <td>A</td>    <td>Control</td>  <td>-8.4235</td>   <td>0.0</td>  <td>-12.0925</td> <td>-4.7545</td>  <td>True</td> \n",
       "</tr>\n",
       "<tr>\n",
       "     <td>A</td>       <td>T</td>     <td>-9.4589</td>   <td>0.0</td>  <td>-13.1279</td> <td>-5.7899</td>  <td>True</td> \n",
       "</tr>\n",
       "<tr>\n",
       "  <td>Control</td>    <td>T</td>     <td>-1.0354</td> <td>0.7846</td>  <td>-4.7183</td> <td>2.6476</td>   <td>False</td>\n",
       "</tr>\n",
       "</table>"
      ],
      "text/latex": [
       "\\begin{center}\n",
       "\\begin{tabular}{ccccccc}\n",
       "\\toprule\n",
       "\\textbf{group1} & \\textbf{group2} & \\textbf{meandiff} & \\textbf{p-adj} & \\textbf{lower} & \\textbf{upper} & \\textbf{reject}  \\\\\n",
       "\\midrule\n",
       "       A        &     Control     &      -8.4235      &      0.0       &    -12.0925    &    -4.7545     &       True       \\\\\n",
       "       A        &        T        &      -9.4589      &      0.0       &    -13.1279    &    -5.7899     &       True       \\\\\n",
       "    Control     &        T        &      -1.0354      &     0.7846     &    -4.7183     &     2.6476     &      False       \\\\\n",
       "\\bottomrule\n",
       "\\end{tabular}\n",
       "%\\caption{Multiple Comparison of Means - Tukey HSD, FWER=0.05}\n",
       "\\end{center}"
      ],
      "text/plain": [
       "<class 'statsmodels.iolib.table.SimpleTable'>"
      ]
     },
     "execution_count": 34,
     "metadata": {},
     "output_type": "execute_result"
    }
   ],
   "source": [
    "# Post hoc test\n",
    "tukey_oneway = pairwise_tukeyhsd(endog = df_memory_clean['diff'], groups = df_memory_clean['drug'], alpha = 0.05)\n",
    "tukey_oneway.summary()"
   ]
  },
  {
   "cell_type": "markdown",
   "id": "9455d49b",
   "metadata": {},
   "source": [
    "**Result:** The resulting p-value of 1.84e-09 is less than 0.05, indicating that we can reject the null hypothesis. There appears to be a significant difference in memory response time based on drug condition. The post hoc Tukey's HSD test revealed that there is a significant difference between drug A (Xanax) and the control group, between drug A (Xanax) and drug T (Halcion), but not between the control group and drug T (Halcion). The control group and the drug T (Halcion) group had significantly lower differences in memory response time than the drug A (Xanax) group. This indicates that the drug A (Xanax) group had significantly higher post-intervention memory response times than the other drug conditions. "
   ]
  },
  {
   "cell_type": "code",
   "execution_count": 35,
   "id": "5858c1c4",
   "metadata": {
    "scrolled": true
   },
   "outputs": [
    {
     "data": {
      "image/png": "[encoded data removed]",
      "text/plain": [
       "<Figure size 640x480 with 1 Axes>"
      ]
     },
     "metadata": {},
     "output_type": "display_data"
    }
   ],
   "source": [
    "# Visualization of Difference in Memory Response Time by Drug Condition\n",
    "fig, ax = plt.subplots()\n",
    "ax.bar(data = df_memory_clean, x = 'drug', height = 'diff')\n",
    "ax.hlines(y=0, xmin=-.5, xmax=2.5, linewidth=1.5, color='r')\n",
    "plt.xticks([0, 1, 2], ['A (Xanax)', 'Control (Sugar)', 'T (Halcion)'])\n",
    "plt.xlabel('Drug condition', fontstyle = 'italic')\n",
    "plt.ylabel('Difference in response time', fontstyle = 'italic')\n",
    "plt.title('Difference in Memory Response Time by Drug Condition')\n",
    "plt.grid(linestyle =  '--', linewidth = 0.5)\n",
    "plt.show()"
   ]
  },
  {
   "cell_type": "markdown",
   "id": "1c8a039e",
   "metadata": {},
   "source": [
    "## Test 3: Two-Way ANOVA\n",
    "\n",
    "*An analysis of variance with two categorical independent variables.*\n",
    "\n",
    "Is the difference in before versus after memory scores significantly different based on randomly assigned drug condition, happy/sad priming condition, or the interaction of the two conditions?\n",
    "\n",
    "### *Null and Alternative Hypotheses*\n",
    "\n",
    " \n",
    "**Main effect of drug condition:** \n",
    "\n",
    "*Null hypothesis:* There is no diffrence in memory response time between the three different drug conditions (Xanax, control, Halcion).\n",
    "\n",
    "*Alternative hypothesis:* There is a difference in memory response time between drug condiitons.\n",
    "\n",
    "**Main effect of happy/sad priming condition:** \n",
    "\n",
    "*Null hypothesis:* There is no diffrence in memory response time between happy and sad priming conditions.\n",
    "\n",
    "*Alternative hypothesis:* There is a difference in memory response time between happy and sad priming condiitons.\n",
    "\n",
    "**Interaction effect:**\n",
    "\n",
    "*Null hypothesis:* The effect of drug condition on difference in memory response time is independent of happy/sad priming condition.\n",
    "\n",
    "*Alternative hypothesis:* The difference in memory response time for each drug condition is different based on happy/sad priming condition. There is an interaction between drug condition and happy/sad priming condition on difference in memory response time.\n",
    "\n",
    "**Significance Level:**  *Alpha = 0.05.* "
   ]
  },
  {
   "cell_type": "code",
   "execution_count": 36,
   "id": "e7970469",
   "metadata": {
    "scrolled": true
   },
   "outputs": [
    {
     "data": {
      "text/html": [
       "<div>\n",
       "<style scoped>\n",
       "    .dataframe tbody tr th:only-of-type {\n",
       "        vertical-align: middle;\n",
       "    }\n",
       "\n",
       "    .dataframe tbody tr th {\n",
       "        vertical-align: top;\n",
       "    }\n",
       "\n",
       "    .dataframe thead th {\n",
       "        text-align: right;\n",
       "    }\n",
       "</style>\n",
       "<table border=\"1\" class=\"dataframe\">\n",
       "  <thead>\n",
       "    <tr style=\"text-align: right;\">\n",
       "      <th></th>\n",
       "      <th>sum_sq</th>\n",
       "      <th>df</th>\n",
       "      <th>F</th>\n",
       "      <th>PR(&gt;F)</th>\n",
       "    </tr>\n",
       "  </thead>\n",
       "  <tbody>\n",
       "    <tr>\n",
       "      <th>C(drug)</th>\n",
       "      <td>3511.843541</td>\n",
       "      <td>2.0</td>\n",
       "      <td>22.194823</td>\n",
       "      <td>2.174914e-09</td>\n",
       "    </tr>\n",
       "    <tr>\n",
       "      <th>C(happy_sad_group)</th>\n",
       "      <td>67.879315</td>\n",
       "      <td>1.0</td>\n",
       "      <td>0.857993</td>\n",
       "      <td>3.554759e-01</td>\n",
       "    </tr>\n",
       "    <tr>\n",
       "      <th>C(drug):C(happy_sad_group)</th>\n",
       "      <td>151.443459</td>\n",
       "      <td>2.0</td>\n",
       "      <td>0.957121</td>\n",
       "      <td>3.858402e-01</td>\n",
       "    </tr>\n",
       "    <tr>\n",
       "      <th>Residual</th>\n",
       "      <td>15031.664837</td>\n",
       "      <td>190.0</td>\n",
       "      <td>NaN</td>\n",
       "      <td>NaN</td>\n",
       "    </tr>\n",
       "  </tbody>\n",
       "</table>\n",
       "</div>"
      ],
      "text/plain": [
       "                                  sum_sq     df          F        PR(>F)\n",
       "C(drug)                      3511.843541    2.0  22.194823  2.174914e-09\n",
       "C(happy_sad_group)             67.879315    1.0   0.857993  3.554759e-01\n",
       "C(drug):C(happy_sad_group)    151.443459    2.0   0.957121  3.858402e-01\n",
       "Residual                    15031.664837  190.0        NaN           NaN"
      ]
     },
     "execution_count": 36,
     "metadata": {},
     "output_type": "execute_result"
    }
   ],
   "source": [
    "# Finding the F-statistics and p-values\n",
    "anova_model2 = ols(formula = 'diff ~ C(drug) + C(happy_sad_group) + C(drug):C(happy_sad_group)', data = df_memory_clean).fit()\n",
    "\n",
    "sm.stats.anova_lm(anova_model2, typ = 2)"
   ]
  },
  {
   "cell_type": "markdown",
   "id": "29ff67dd",
   "metadata": {},
   "source": [
    "**Result:** There is a significant main effect of drug condition on difference in memory response time (p > 0.05), but no significant main effect of happy/sad priming condition (p = 0.35), and no interaction effect (p = 0.39). This indicates that the difference in memory scores between different drug groups was significant (similar to the results of the one-way ANOVA), but the difference in memory scores between different happy/sad priming conditions was not significant, and there does not appear to be an interaction between drug condition and happy/sad priming condition."
   ]
  },
  {
   "cell_type": "code",
   "execution_count": 37,
   "id": "b9666f08",
   "metadata": {
    "scrolled": true
   },
   "outputs": [
    {
     "data": {
      "image/png": "[encoded data removed]",
      "text/plain": [
       "<Figure size 640x480 with 1 Axes>"
      ]
     },
     "metadata": {},
     "output_type": "display_data"
    }
   ],
   "source": [
    "# Visualization of Difference in Memory Response Time by Drug and Happy/Sad Priming Condition\n",
    "sns.set_style('whitegrid')\n",
    "sns.barplot(data = df_memory_clean, x = 'drug', y = 'diff', hue = 'happy_sad_group', errorbar = None)\n",
    "plt.xlabel('Drug condition', fontstyle = 'italic')\n",
    "plt.ylabel('Difference in response time', fontstyle = 'italic')\n",
    "plt.xticks([0, 1, 2], ['A (Xanax)', 'Control (Sugar)', 'T (Halcion)'])\n",
    "plt.legend(labels = ['Happy', 'Sad'], title = 'Happy/Sad priming condition')\n",
    "plt.title('Difference in Memory Response Time by Drug and Happy/Sad Priming Condition')\n",
    "plt.axhline(0, color = 'r')\n",
    "plt.show()"
   ]
  },
  {
   "cell_type": "markdown",
   "id": "e0ed9bc2",
   "metadata": {},
   "source": [
    "## Test 4: Two-Way ANOVA(2)\n",
    "\n",
    "*An analysis of variance with two categorical independent variables.*\n",
    "\n",
    "Is the difference in before versus after memory scores significantly different based on randomly assigned drug condition, dosage condition, or the interaction of the two conditions?\n",
    "\n",
    "### *Null and Alternative Hypotheses*\n",
    "\n",
    " \n",
    "**Main effect of drug condition:** \n",
    "\n",
    "*Null hypothesis:* There is no diffrence in memory response time between the three different drug conditions (Xanax, control, Halcion).\n",
    "\n",
    "*Alternative hypothesis:* There is a difference in memory response time between drug condiitons.\n",
    "\n",
    "**Main effect of dosage:** \n",
    "\n",
    "*Null hypothesis:* There is no diffrence in memory response time between low, moderate, and high dosage.\n",
    "\n",
    "*Alternative hypothesis:* There is a difference in memory response time between low, moderate, and high dosage.\n",
    "\n",
    "**Interaction effect:**\n",
    "\n",
    "*Null hypothesis:* The effect of drug condition on difference in memory response time is independent of dosage.\n",
    "\n",
    "*Alternative hypothesis:* The difference in memory response time for each drug condition is different based on dosage.\n",
    "\n",
    "**Significance Level:**  *Alpha = 0.05.* "
   ]
  },
  {
   "cell_type": "code",
   "execution_count": 38,
   "id": "dc37f4b4",
   "metadata": {
    "scrolled": true
   },
   "outputs": [
    {
     "data": {
      "text/html": [
       "<div>\n",
       "<style scoped>\n",
       "    .dataframe tbody tr th:only-of-type {\n",
       "        vertical-align: middle;\n",
       "    }\n",
       "\n",
       "    .dataframe tbody tr th {\n",
       "        vertical-align: top;\n",
       "    }\n",
       "\n",
       "    .dataframe thead th {\n",
       "        text-align: right;\n",
       "    }\n",
       "</style>\n",
       "<table border=\"1\" class=\"dataframe\">\n",
       "  <thead>\n",
       "    <tr style=\"text-align: right;\">\n",
       "      <th></th>\n",
       "      <th>sum_sq</th>\n",
       "      <th>df</th>\n",
       "      <th>F</th>\n",
       "      <th>PR(&gt;F)</th>\n",
       "    </tr>\n",
       "  </thead>\n",
       "  <tbody>\n",
       "    <tr>\n",
       "      <th>C(drug)</th>\n",
       "      <td>3579.208113</td>\n",
       "      <td>2.0</td>\n",
       "      <td>34.379749</td>\n",
       "      <td>1.927169e-13</td>\n",
       "    </tr>\n",
       "    <tr>\n",
       "      <th>C(dosage)</th>\n",
       "      <td>944.932066</td>\n",
       "      <td>2.0</td>\n",
       "      <td>9.076457</td>\n",
       "      <td>1.729523e-04</td>\n",
       "    </tr>\n",
       "    <tr>\n",
       "      <th>C(drug):C(dosage)</th>\n",
       "      <td>4571.954140</td>\n",
       "      <td>4.0</td>\n",
       "      <td>21.957739</td>\n",
       "      <td>7.148946e-15</td>\n",
       "    </tr>\n",
       "    <tr>\n",
       "      <th>Residual</th>\n",
       "      <td>9734.101405</td>\n",
       "      <td>187.0</td>\n",
       "      <td>NaN</td>\n",
       "      <td>NaN</td>\n",
       "    </tr>\n",
       "  </tbody>\n",
       "</table>\n",
       "</div>"
      ],
      "text/plain": [
       "                        sum_sq     df          F        PR(>F)\n",
       "C(drug)            3579.208113    2.0  34.379749  1.927169e-13\n",
       "C(dosage)           944.932066    2.0   9.076457  1.729523e-04\n",
       "C(drug):C(dosage)  4571.954140    4.0  21.957739  7.148946e-15\n",
       "Residual           9734.101405  187.0        NaN           NaN"
      ]
     },
     "execution_count": 38,
     "metadata": {},
     "output_type": "execute_result"
    }
   ],
   "source": [
    "anova_model3 = ols(formula = 'diff ~ C(drug) + C(dosage) + C(drug):C(dosage)', data = df_memory_clean).fit()\n",
    "\n",
    "sm.stats.anova_lm(anova_model3, typ = 2)"
   ]
  },
  {
   "cell_type": "code",
   "execution_count": 39,
   "id": "5bd0c9cb",
   "metadata": {
    "scrolled": false
   },
   "outputs": [
    {
     "data": {
      "text/html": [
       "<table class=\"simpletable\">\n",
       "<caption>Multiple Comparison of Means - Tukey HSD, FWER=0.05</caption>\n",
       "<tr>\n",
       "  <th>group1</th>  <th>group2</th>  <th>meandiff</th>  <th>p-adj</th>  <th>lower</th>   <th>upper</th>  <th>reject</th>\n",
       "</tr>\n",
       "<tr>\n",
       "   <td>high</td>     <td>low</td>    <td>-5.2335</td> <td>0.0061</td> <td>-9.2076</td> <td>-1.2593</td>  <td>True</td> \n",
       "</tr>\n",
       "<tr>\n",
       "   <td>high</td>  <td>moderate</td>  <td>-2.9679</td> <td>0.1892</td> <td>-6.9718</td>  <td>1.036</td>   <td>False</td>\n",
       "</tr>\n",
       "<tr>\n",
       "    <td>low</td>  <td>moderate</td>  <td>2.2656</td>  <td>0.3684</td> <td>-1.6929</td> <td>6.2241</td>   <td>False</td>\n",
       "</tr>\n",
       "</table>"
      ],
      "text/latex": [
       "\\begin{center}\n",
       "\\begin{tabular}{ccccccc}\n",
       "\\toprule\n",
       "\\textbf{group1} & \\textbf{group2} & \\textbf{meandiff} & \\textbf{p-adj} & \\textbf{lower} & \\textbf{upper} & \\textbf{reject}  \\\\\n",
       "\\midrule\n",
       "      high      &       low       &      -5.2335      &     0.0061     &    -9.2076     &    -1.2593     &       True       \\\\\n",
       "      high      &     moderate    &      -2.9679      &     0.1892     &    -6.9718     &     1.036      &      False       \\\\\n",
       "      low       &     moderate    &       2.2656      &     0.3684     &    -1.6929     &     6.2241     &      False       \\\\\n",
       "\\bottomrule\n",
       "\\end{tabular}\n",
       "%\\caption{Multiple Comparison of Means - Tukey HSD, FWER=0.05}\n",
       "\\end{center}"
      ],
      "text/plain": [
       "<class 'statsmodels.iolib.table.SimpleTable'>"
      ]
     },
     "execution_count": 39,
     "metadata": {},
     "output_type": "execute_result"
    }
   ],
   "source": [
    "# Post hoc test on dosage\n",
    "tukey_oneway2 = pairwise_tukeyhsd(endog = df_memory_clean['diff'], groups = df_memory_clean['dosage'], alpha = 0.05)\n",
    "tukey_oneway2.summary()"
   ]
  },
  {
   "cell_type": "code",
   "execution_count": 40,
   "id": "d2d261a0",
   "metadata": {
    "scrolled": false
   },
   "outputs": [
    {
     "data": {
      "image/png": "[encoded data removed]",
      "text/plain": [
       "<Figure size 640x480 with 1 Axes>"
      ]
     },
     "metadata": {},
     "output_type": "display_data"
    }
   ],
   "source": [
    "# Visualization of Difference in Memory Response Time by Drug and Dosage\n",
    "sns.set_style('whitegrid')\n",
    "sns.barplot(data = df_memory_clean, x = 'drug', y = 'diff', hue = 'dosage', errorbar = None)\n",
    "plt.xlabel('Drug condition', fontstyle = 'italic')\n",
    "plt.ylabel('Difference in response time', fontstyle = 'italic')\n",
    "plt.xticks([0, 1, 2], ['A (Xanax)', 'Control (Sugar)', 'T (Halcion)'])\n",
    "plt.legend(labels = ['Low', 'Moderate', 'High'], title = 'Dosage')\n",
    "plt.title('Difference in Memory Response Time by Drug and Dosage')\n",
    "plt.axhline(0, color = 'r')\n",
    "plt.show()"
   ]
  },
  {
   "cell_type": "markdown",
   "id": "c41c6efe",
   "metadata": {},
   "source": [
    "**Results:** In addition to the significant main effect of drug condition, there is a significant main effect of dosage (p < 0.05), and a significant interaction effect (p < 0.05). This means that all three null hypotheses can be rejected. A Tukey's HSD post hoc test revealed that there is a significant difference in memory response time between high and low dosage conditions, but not between high and moderate, or low and moderate doses. The low dosage groups had significantly lower post-intervention memory response times than the high dosage group. The interaction effect between drug type and dosage was also significant, indicating that the difference in memory response time was different for the different drug groups based on dosage. The visualization illustrates that dosage affected the drug A (Xanax) group differently than the other two drug groups. High doeses of drug A (Xanax) were associated with significantly higher post-intervention memory response times, compared to low doses of drug A (Xanax). The other two drugs did not show the same magnitude or direction of difference in memory response times based on dosage. It could also be the case that the main effect of dosage was qualified by the interaction effect of dosage and drug condition."
   ]
  },
  {
   "cell_type": "markdown",
   "id": "810b1dd0",
   "metadata": {},
   "source": [
    "# Conclusions"
   ]
  },
  {
   "cell_type": "markdown",
   "id": "1673436d",
   "metadata": {},
   "source": [
    "*Given that this data was not collected from real human participants, these analyses are purely exploratory for purposes of this project and any conclusions should be interpreted cautiously.*\n",
    "\n",
    "**Main effect of drug condition (significant):** My analyses revealed that there is a main effect of drug condition on difference in memory response time. Observations in the drug A (Xanax) condition, performed worse on the memory test after exposure to the drug than before, as indicated by significantly longer response times relative to the drug T (Halcion) and control conditions. This suggests that use of Xanax may have a negative impact on memory.\n",
    "\n",
    "**Main effect of dosage (significant):** In addition to a main effect of drug condition, there also was a significant main effect of dosage. Observations in the high dosage group had significantly higher differences in memory test respponse times after exposure than before, when compared to low and moderate dosage conditions. This main effect, however, could be qualified by the interaction effect between drug condition and dosage condition.\n",
    "\n",
    "**Interaction effect of dosage and drug condition (significant):** There was a significant interaction between drug condition and dosage. Differences in memory test response times for observations in the drug A (Xanax) condition were greatly affected by dosage, with higher dosage being associated with longer test response times relative to moderate and low dosage conditions. The magnitude and direction of the effect of dosage was not present to the same degree in the other two drug conditions.\n",
    "\n",
    "**Main effect of emotional priming condition:** No significant difference in memory test response times was found between observations in the happy priming condition relative to the sad priming condition. Any observed differences are likely due to chance. \n",
    "\n",
    "**Interaction effect of drug condition and emotional priming condition:** There also was not a significant interaction between drug condition and emotional priming condition. The difference in memory response times between the different drug conditions was not different based on the emotional priming conditions."
   ]
  },
  {
   "cell_type": "markdown",
   "id": "9c136ae3",
   "metadata": {},
   "source": [
    "# Supplemental Visualizations"
   ]
  },
  {
   "cell_type": "code",
   "execution_count": 41,
   "id": "98ac00dc",
   "metadata": {},
   "outputs": [
    {
     "data": {
      "image/png": "[encoded data removed]",
      "text/plain": [
       "<Figure size 800x800 with 4 Axes>"
      ]
     },
     "metadata": {},
     "output_type": "display_data"
    }
   ],
   "source": [
    "# Histograms\n",
    "fig, axes = plt.subplots(2, 2, figsize = (8, 8))\n",
    "\n",
    "sns.histplot(data = df_memory_clean, x = 'age', ax = axes[0, 0])\n",
    "axes[0, 0].set_xlabel('Age')\n",
    "axes[0, 0].set_title('Age Distribution')\n",
    "\n",
    "sns.histplot(data = df_memory_clean, x = 'diff', ax = axes[0, 1])\n",
    "axes[0, 1].set_xlabel('Difference in memory response time')\n",
    "axes[0, 1].set_title('Distribution of Differences in Memory Response Times')\n",
    "\n",
    "sns.histplot(data = df_memory_clean, x = 'mem_score_before', ax = axes[1, 0])\n",
    "axes[1, 0].set_xlabel('Initial memory score')\n",
    "axes[1, 0].set_title('Distribution of Initial Memory Scores')\n",
    "\n",
    "sns.histplot(data = df_memory_clean, x = 'mem_score_after', ax = axes[1, 1])\n",
    "axes[1, 1].set_xlabel('Post-Intervention memory score')\n",
    "axes[1, 1].set_title('Distribution of Post-Intervention Memory Scores')\n",
    "\n",
    "plt.tight_layout()\n",
    "plt.show()"
   ]
  },
  {
   "cell_type": "code",
   "execution_count": 42,
   "id": "c95d48e9",
   "metadata": {
    "scrolled": true
   },
   "outputs": [
    {
     "data": {
      "image/png": "[encoded data removed]",
      "text/plain": [
       "<Figure size 640x480 with 1 Axes>"
      ]
     },
     "metadata": {},
     "output_type": "display_data"
    }
   ],
   "source": [
    "# Difference in Memory Response Time by Age\n",
    "sns.set_style('darkgrid', {'grid.linestyle' : '--'})\n",
    "sns.scatterplot(data = df_memory_clean, x = 'age', y = 'diff')\n",
    "plt.xlabel ('Age', fontstyle = 'italic')\n",
    "plt.ylabel('Difference in response time', fontstyle = 'italic')\n",
    "plt.title('Difference in Memory Response Time by Age')\n",
    "plt.show()"
   ]
  }
 ],
 "metadata": {
  "kernelspec": {
   "display_name": "Python 3 (ipykernel)",
   "language": "python",
   "name": "python3"
  },
  "language_info": {
   "codemirror_mode": {
    "name": "ipython",
    "version": 3
   },
   "file_extension": ".py",
   "mimetype": "text/x-python",
   "name": "python",
   "nbconvert_exporter": "python",
   "pygments_lexer": "ipython3",
   "version": "3.11.4"
  }
 },
 "nbformat": 4,
 "nbformat_minor": 5
}
